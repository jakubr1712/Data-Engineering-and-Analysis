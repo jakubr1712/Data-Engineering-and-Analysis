{
  "cells": [
    {
      "cell_type": "markdown",
      "id": "02d26494-75b4-4a0c-ae9b-341c55f7263f",
      "metadata": {
        "id": "02d26494-75b4-4a0c-ae9b-341c55f7263f"
      },
      "source": [
        "# Pakiet numpy I"
      ]
    },
    {
      "cell_type": "markdown",
      "id": "5f296b1b-67b9-4019-8daa-26fb4c029e22",
      "metadata": {
        "id": "5f296b1b-67b9-4019-8daa-26fb4c029e22"
      },
      "source": [
        "**Zadanie 1**\n",
        "Utwórz zwykłą listę miliona liczb całkowitych i ich odpowiednik w `numpy` składający się z takich samych liczb z wykorzystaniem `np.arange()`. Wykonaj $10$-krotne mnożenie elementów tych sekwencji (tj. stwórz nowe obiekty tego typu o podwojonych wartościach) przez $2$ i zmierz czas tej operacji używając dyrektywy `%timeit`."
      ]
    },
    {
      "cell_type": "code",
      "source": [
        "\n",
        "import numpy as np\n",
        "\n",
        "python_list = list(range(1000000))\n",
        "\n",
        "numpy_array = np.arange(1000000)\n",
        "\n",
        "print(\"Czas mnożenia listy przez 2 (10 razy):\")\n",
        "%timeit for _ in range(10): new_python_list = [x * 2 for x in python_list]\n",
        "\n",
        "print(\"\\nCzas mnożenia tablicy numpy przez 2 (10 razy):\")\n",
        "%timeit for _ in range(10): new_numpy_array = numpy_array * 2\n"
      ],
      "metadata": {
        "colab": {
          "base_uri": "https://localhost:8080/"
        },
        "id": "MQuYGLn2k46j",
        "outputId": "b0082041-f6ff-4a4c-823d-0ddf8c5fb32d"
      },
      "id": "MQuYGLn2k46j",
      "execution_count": 3,
      "outputs": [
        {
          "output_type": "stream",
          "name": "stdout",
          "text": [
            "Czas mnożenia listy przez 2 (10 razy):\n",
            "728 ms ± 12.5 ms per loop (mean ± std. dev. of 7 runs, 1 loop each)\n",
            "\n",
            "Czas mnożenia tablicy numpy przez 2 (10 razy):\n",
            "12.1 ms ± 1.12 ms per loop (mean ± std. dev. of 7 runs, 100 loops each)\n"
          ]
        }
      ]
    },
    {
      "cell_type": "markdown",
      "id": "d3f7eb55-5dfd-4f93-9f96-aa097ceb2bdc",
      "metadata": {
        "id": "d3f7eb55-5dfd-4f93-9f96-aa097ceb2bdc"
      },
      "source": [
        "**Zadanie 2**\n",
        "Oceń które, z poniższych operacji da się wykonać. Jeżeli operacja jest wykonywalna to wyznacz kształt wyniku.\n",
        "* `np.array([[1,2,3], [4,5,6]]) * np.array([[1,2], [4,5]])`\n",
        "* `np.array([[1,2,3], [4,5,6], [7,8,9]]) * np.array([[1], [2], [3]])`\n",
        "* `np.array([[1,2,3,4], [4,5,6,7], [7,8,9,10]]) * np.arange(1,13).reshape(1,1,3,4)`\n",
        "* `np.array([[1,2], [3,4], [5,6], [7, 8]]) + np.arange(1,9).reshape(1,4,2)`"
      ]
    },
    {
      "cell_type": "code",
      "source": [
        "print(\"Operacja 1:\")\n",
        "try:\n",
        "  result = np.array([[1,2,3], [4,5,6]]) * np.array([[1,2], [4,5]])\n",
        "  print(\"Nie można wykonać tej operacji. Wymiary macierzy nie są zgodne.\")\n",
        "except ValueError:\n",
        "  print(\"Nie można wykonać tej operacji. Wymiary macierzy nie są zgodne.\")\n",
        "\n",
        "print(\"\\nOperacja 2:\")\n",
        "try:\n",
        "  result = np.array([[1,2,3], [4,5,6], [7,8,9]]) * np.array([[1], [2], [3]])\n",
        "  print(\"Można wykonać operację.\")\n",
        "  print(\"Kształt wyniku:\", result.shape)\n",
        "except ValueError:\n",
        "  print(\"Nie można wykonać tej operacji. Wymiary macierzy nie są zgodne.\")\n",
        "\n",
        "print(\"\\nOperacja 3:\")\n",
        "try:\n",
        "  result = np.array([[1,2,3,4], [4,5,6,7], [7,8,9,10]]) * np.arange(1,13).reshape(1,1,3,4)\n",
        "  print(\"Można wykonać operację.\")\n",
        "  print(\"Kształt wyniku:\", result.shape)\n",
        "except ValueError:\n",
        "  print(\"Nie można wykonać tej operacji. Wymiary macierzy nie są zgodne.\")\n",
        "\n",
        "print(\"\\nOperacja 4:\")\n",
        "try:\n",
        "  result = np.array([[1,2], [3,4], [5,6], [7, 8]]) + np.arange(1,9).reshape(1,4,2)\n",
        "  print(\"Można wykonać operację.\")\n",
        "  print(\"Kształt wyniku:\", result.shape)\n",
        "except ValueError:\n",
        "  print(\"Nie można wykonać tej operacji. Wymiary macierzy nie są zgodne.\")\n",
        "\n"
      ],
      "metadata": {
        "colab": {
          "base_uri": "https://localhost:8080/"
        },
        "id": "5RrDzwIglbVg",
        "outputId": "fb367227-76a4-47c3-9bd8-43dc81f814ce"
      },
      "id": "5RrDzwIglbVg",
      "execution_count": 4,
      "outputs": [
        {
          "output_type": "stream",
          "name": "stdout",
          "text": [
            "Operacja 1:\n",
            "Nie można wykonać tej operacji. Wymiary macierzy nie są zgodne.\n",
            "\n",
            "Operacja 2:\n",
            "Można wykonać operację.\n",
            "Kształt wyniku: (3, 3)\n",
            "\n",
            "Operacja 3:\n",
            "Można wykonać operację.\n",
            "Kształt wyniku: (1, 1, 3, 4)\n",
            "\n",
            "Operacja 4:\n",
            "Można wykonać operację.\n",
            "Kształt wyniku: (1, 4, 2)\n"
          ]
        }
      ]
    },
    {
      "cell_type": "markdown",
      "id": "9262c172-4666-452e-ae0d-d726f1cdc637",
      "metadata": {
        "id": "9262c172-4666-452e-ae0d-d726f1cdc637"
      },
      "source": [
        "**Zadanie 3**\n",
        "Niech będzie dana macierz o $150$ wierszach i $4$ kolumnach, utworzona w następujący sposób.\n",
        "```python\n",
        "import seaborn as sns\n",
        "iris = np.array(sns.load_dataset(\"iris\").iloc[:,0:4])\n",
        "```\n",
        "Dokonaj standaryzacji wszystkich zmiennych, tj. w każdej kolumnie od każdej obserwacji odejmij wartości średniej arytmetycznej i podziel ją przez odchylenie standardowe."
      ]
    },
    {
      "cell_type": "code",
      "source": [
        "import numpy as np\n",
        "import seaborn as sns\n",
        "\n",
        "iris = np.array(sns.load_dataset(\"iris\").iloc[:,0:4])\n",
        "\n",
        "means = np.mean(iris, axis=0)\n",
        "stds = np.std(iris, axis=0)\n",
        "standardized_iris = (iris - means) / stds\n",
        "\n",
        "print(standardized_iris)\n"
      ],
      "metadata": {
        "colab": {
          "base_uri": "https://localhost:8080/"
        },
        "id": "JV_pxHcOlo4P",
        "outputId": "f6fc333c-88e0-49f7-e140-cf3e109aa64e"
      },
      "id": "JV_pxHcOlo4P",
      "execution_count": 5,
      "outputs": [
        {
          "output_type": "stream",
          "name": "stdout",
          "text": [
            "[[-9.00681170e-01  1.01900435e+00 -1.34022653e+00 -1.31544430e+00]\n",
            " [-1.14301691e+00 -1.31979479e-01 -1.34022653e+00 -1.31544430e+00]\n",
            " [-1.38535265e+00  3.28414053e-01 -1.39706395e+00 -1.31544430e+00]\n",
            " [-1.50652052e+00  9.82172869e-02 -1.28338910e+00 -1.31544430e+00]\n",
            " [-1.02184904e+00  1.24920112e+00 -1.34022653e+00 -1.31544430e+00]\n",
            " [-5.37177559e-01  1.93979142e+00 -1.16971425e+00 -1.05217993e+00]\n",
            " [-1.50652052e+00  7.88807586e-01 -1.34022653e+00 -1.18381211e+00]\n",
            " [-1.02184904e+00  7.88807586e-01 -1.28338910e+00 -1.31544430e+00]\n",
            " [-1.74885626e+00 -3.62176246e-01 -1.34022653e+00 -1.31544430e+00]\n",
            " [-1.14301691e+00  9.82172869e-02 -1.28338910e+00 -1.44707648e+00]\n",
            " [-5.37177559e-01  1.47939788e+00 -1.28338910e+00 -1.31544430e+00]\n",
            " [-1.26418478e+00  7.88807586e-01 -1.22655167e+00 -1.31544430e+00]\n",
            " [-1.26418478e+00 -1.31979479e-01 -1.34022653e+00 -1.44707648e+00]\n",
            " [-1.87002413e+00 -1.31979479e-01 -1.51073881e+00 -1.44707648e+00]\n",
            " [-5.25060772e-02  2.16998818e+00 -1.45390138e+00 -1.31544430e+00]\n",
            " [-1.73673948e-01  3.09077525e+00 -1.28338910e+00 -1.05217993e+00]\n",
            " [-5.37177559e-01  1.93979142e+00 -1.39706395e+00 -1.05217993e+00]\n",
            " [-9.00681170e-01  1.01900435e+00 -1.34022653e+00 -1.18381211e+00]\n",
            " [-1.73673948e-01  1.70959465e+00 -1.16971425e+00 -1.18381211e+00]\n",
            " [-9.00681170e-01  1.70959465e+00 -1.28338910e+00 -1.18381211e+00]\n",
            " [-5.37177559e-01  7.88807586e-01 -1.16971425e+00 -1.31544430e+00]\n",
            " [-9.00681170e-01  1.47939788e+00 -1.28338910e+00 -1.05217993e+00]\n",
            " [-1.50652052e+00  1.24920112e+00 -1.56757623e+00 -1.31544430e+00]\n",
            " [-9.00681170e-01  5.58610819e-01 -1.16971425e+00 -9.20547742e-01]\n",
            " [-1.26418478e+00  7.88807586e-01 -1.05603939e+00 -1.31544430e+00]\n",
            " [-1.02184904e+00 -1.31979479e-01 -1.22655167e+00 -1.31544430e+00]\n",
            " [-1.02184904e+00  7.88807586e-01 -1.22655167e+00 -1.05217993e+00]\n",
            " [-7.79513300e-01  1.01900435e+00 -1.28338910e+00 -1.31544430e+00]\n",
            " [-7.79513300e-01  7.88807586e-01 -1.34022653e+00 -1.31544430e+00]\n",
            " [-1.38535265e+00  3.28414053e-01 -1.22655167e+00 -1.31544430e+00]\n",
            " [-1.26418478e+00  9.82172869e-02 -1.22655167e+00 -1.31544430e+00]\n",
            " [-5.37177559e-01  7.88807586e-01 -1.28338910e+00 -1.05217993e+00]\n",
            " [-7.79513300e-01  2.40018495e+00 -1.28338910e+00 -1.44707648e+00]\n",
            " [-4.16009689e-01  2.63038172e+00 -1.34022653e+00 -1.31544430e+00]\n",
            " [-1.14301691e+00  9.82172869e-02 -1.28338910e+00 -1.31544430e+00]\n",
            " [-1.02184904e+00  3.28414053e-01 -1.45390138e+00 -1.31544430e+00]\n",
            " [-4.16009689e-01  1.01900435e+00 -1.39706395e+00 -1.31544430e+00]\n",
            " [-1.14301691e+00  1.24920112e+00 -1.34022653e+00 -1.44707648e+00]\n",
            " [-1.74885626e+00 -1.31979479e-01 -1.39706395e+00 -1.31544430e+00]\n",
            " [-9.00681170e-01  7.88807586e-01 -1.28338910e+00 -1.31544430e+00]\n",
            " [-1.02184904e+00  1.01900435e+00 -1.39706395e+00 -1.18381211e+00]\n",
            " [-1.62768839e+00 -1.74335684e+00 -1.39706395e+00 -1.18381211e+00]\n",
            " [-1.74885626e+00  3.28414053e-01 -1.39706395e+00 -1.31544430e+00]\n",
            " [-1.02184904e+00  1.01900435e+00 -1.22655167e+00 -7.88915558e-01]\n",
            " [-9.00681170e-01  1.70959465e+00 -1.05603939e+00 -1.05217993e+00]\n",
            " [-1.26418478e+00 -1.31979479e-01 -1.34022653e+00 -1.18381211e+00]\n",
            " [-9.00681170e-01  1.70959465e+00 -1.22655167e+00 -1.31544430e+00]\n",
            " [-1.50652052e+00  3.28414053e-01 -1.34022653e+00 -1.31544430e+00]\n",
            " [-6.58345429e-01  1.47939788e+00 -1.28338910e+00 -1.31544430e+00]\n",
            " [-1.02184904e+00  5.58610819e-01 -1.34022653e+00 -1.31544430e+00]\n",
            " [ 1.40150837e+00  3.28414053e-01  5.35408562e-01  2.64141916e-01]\n",
            " [ 6.74501145e-01  3.28414053e-01  4.21733708e-01  3.95774101e-01]\n",
            " [ 1.28034050e+00  9.82172869e-02  6.49083415e-01  3.95774101e-01]\n",
            " [-4.16009689e-01 -1.74335684e+00  1.37546573e-01  1.32509732e-01]\n",
            " [ 7.95669016e-01 -5.92373012e-01  4.78571135e-01  3.95774101e-01]\n",
            " [-1.73673948e-01 -5.92373012e-01  4.21733708e-01  1.32509732e-01]\n",
            " [ 5.53333275e-01  5.58610819e-01  5.35408562e-01  5.27406285e-01]\n",
            " [-1.14301691e+00 -1.51316008e+00 -2.60315415e-01 -2.62386821e-01]\n",
            " [ 9.16836886e-01 -3.62176246e-01  4.78571135e-01  1.32509732e-01]\n",
            " [-7.79513300e-01 -8.22569778e-01  8.07091462e-02  2.64141916e-01]\n",
            " [-1.02184904e+00 -2.43394714e+00 -1.46640561e-01 -2.62386821e-01]\n",
            " [ 6.86617933e-02 -1.31979479e-01  2.51221427e-01  3.95774101e-01]\n",
            " [ 1.89829664e-01 -1.97355361e+00  1.37546573e-01 -2.62386821e-01]\n",
            " [ 3.10997534e-01 -3.62176246e-01  5.35408562e-01  2.64141916e-01]\n",
            " [-2.94841818e-01 -3.62176246e-01 -8.98031345e-02  1.32509732e-01]\n",
            " [ 1.03800476e+00  9.82172869e-02  3.64896281e-01  2.64141916e-01]\n",
            " [-2.94841818e-01 -1.31979479e-01  4.21733708e-01  3.95774101e-01]\n",
            " [-5.25060772e-02 -8.22569778e-01  1.94384000e-01 -2.62386821e-01]\n",
            " [ 4.32165405e-01 -1.97355361e+00  4.21733708e-01  3.95774101e-01]\n",
            " [-2.94841818e-01 -1.28296331e+00  8.07091462e-02 -1.30754636e-01]\n",
            " [ 6.86617933e-02  3.28414053e-01  5.92245988e-01  7.90670654e-01]\n",
            " [ 3.10997534e-01 -5.92373012e-01  1.37546573e-01  1.32509732e-01]\n",
            " [ 5.53333275e-01 -1.28296331e+00  6.49083415e-01  3.95774101e-01]\n",
            " [ 3.10997534e-01 -5.92373012e-01  5.35408562e-01  8.77547895e-04]\n",
            " [ 6.74501145e-01 -3.62176246e-01  3.08058854e-01  1.32509732e-01]\n",
            " [ 9.16836886e-01 -1.31979479e-01  3.64896281e-01  2.64141916e-01]\n",
            " [ 1.15917263e+00 -5.92373012e-01  5.92245988e-01  2.64141916e-01]\n",
            " [ 1.03800476e+00 -1.31979479e-01  7.05920842e-01  6.59038469e-01]\n",
            " [ 1.89829664e-01 -3.62176246e-01  4.21733708e-01  3.95774101e-01]\n",
            " [-1.73673948e-01 -1.05276654e+00 -1.46640561e-01 -2.62386821e-01]\n",
            " [-4.16009689e-01 -1.51316008e+00  2.38717193e-02 -1.30754636e-01]\n",
            " [-4.16009689e-01 -1.51316008e+00 -3.29657076e-02 -2.62386821e-01]\n",
            " [-5.25060772e-02 -8.22569778e-01  8.07091462e-02  8.77547895e-04]\n",
            " [ 1.89829664e-01 -8.22569778e-01  7.62758269e-01  5.27406285e-01]\n",
            " [-5.37177559e-01 -1.31979479e-01  4.21733708e-01  3.95774101e-01]\n",
            " [ 1.89829664e-01  7.88807586e-01  4.21733708e-01  5.27406285e-01]\n",
            " [ 1.03800476e+00  9.82172869e-02  5.35408562e-01  3.95774101e-01]\n",
            " [ 5.53333275e-01 -1.74335684e+00  3.64896281e-01  1.32509732e-01]\n",
            " [-2.94841818e-01 -1.31979479e-01  1.94384000e-01  1.32509732e-01]\n",
            " [-4.16009689e-01 -1.28296331e+00  1.37546573e-01  1.32509732e-01]\n",
            " [-4.16009689e-01 -1.05276654e+00  3.64896281e-01  8.77547895e-04]\n",
            " [ 3.10997534e-01 -1.31979479e-01  4.78571135e-01  2.64141916e-01]\n",
            " [-5.25060772e-02 -1.05276654e+00  1.37546573e-01  8.77547895e-04]\n",
            " [-1.02184904e+00 -1.74335684e+00 -2.60315415e-01 -2.62386821e-01]\n",
            " [-2.94841818e-01 -8.22569778e-01  2.51221427e-01  1.32509732e-01]\n",
            " [-1.73673948e-01 -1.31979479e-01  2.51221427e-01  8.77547895e-04]\n",
            " [-1.73673948e-01 -3.62176246e-01  2.51221427e-01  1.32509732e-01]\n",
            " [ 4.32165405e-01 -3.62176246e-01  3.08058854e-01  1.32509732e-01]\n",
            " [-9.00681170e-01 -1.28296331e+00 -4.30827696e-01 -1.30754636e-01]\n",
            " [-1.73673948e-01 -5.92373012e-01  1.94384000e-01  1.32509732e-01]\n",
            " [ 5.53333275e-01  5.58610819e-01  1.27429511e+00  1.71209594e+00]\n",
            " [-5.25060772e-02 -8.22569778e-01  7.62758269e-01  9.22302838e-01]\n",
            " [ 1.52267624e+00 -1.31979479e-01  1.21745768e+00  1.18556721e+00]\n",
            " [ 5.53333275e-01 -3.62176246e-01  1.04694540e+00  7.90670654e-01]\n",
            " [ 7.95669016e-01 -1.31979479e-01  1.16062026e+00  1.31719939e+00]\n",
            " [ 2.12851559e+00 -1.31979479e-01  1.61531967e+00  1.18556721e+00]\n",
            " [-1.14301691e+00 -1.28296331e+00  4.21733708e-01  6.59038469e-01]\n",
            " [ 1.76501198e+00 -3.62176246e-01  1.44480739e+00  7.90670654e-01]\n",
            " [ 1.03800476e+00 -1.28296331e+00  1.16062026e+00  7.90670654e-01]\n",
            " [ 1.64384411e+00  1.24920112e+00  1.33113254e+00  1.71209594e+00]\n",
            " [ 7.95669016e-01  3.28414053e-01  7.62758269e-01  1.05393502e+00]\n",
            " [ 6.74501145e-01 -8.22569778e-01  8.76433123e-01  9.22302838e-01]\n",
            " [ 1.15917263e+00 -1.31979479e-01  9.90107977e-01  1.18556721e+00]\n",
            " [-1.73673948e-01 -1.28296331e+00  7.05920842e-01  1.05393502e+00]\n",
            " [-5.25060772e-02 -5.92373012e-01  7.62758269e-01  1.58046376e+00]\n",
            " [ 6.74501145e-01  3.28414053e-01  8.76433123e-01  1.44883158e+00]\n",
            " [ 7.95669016e-01 -1.31979479e-01  9.90107977e-01  7.90670654e-01]\n",
            " [ 2.24968346e+00  1.70959465e+00  1.67215710e+00  1.31719939e+00]\n",
            " [ 2.24968346e+00 -1.05276654e+00  1.78583195e+00  1.44883158e+00]\n",
            " [ 1.89829664e-01 -1.97355361e+00  7.05920842e-01  3.95774101e-01]\n",
            " [ 1.28034050e+00  3.28414053e-01  1.10378283e+00  1.44883158e+00]\n",
            " [-2.94841818e-01 -5.92373012e-01  6.49083415e-01  1.05393502e+00]\n",
            " [ 2.24968346e+00 -5.92373012e-01  1.67215710e+00  1.05393502e+00]\n",
            " [ 5.53333275e-01 -8.22569778e-01  6.49083415e-01  7.90670654e-01]\n",
            " [ 1.03800476e+00  5.58610819e-01  1.10378283e+00  1.18556721e+00]\n",
            " [ 1.64384411e+00  3.28414053e-01  1.27429511e+00  7.90670654e-01]\n",
            " [ 4.32165405e-01 -5.92373012e-01  5.92245988e-01  7.90670654e-01]\n",
            " [ 3.10997534e-01 -1.31979479e-01  6.49083415e-01  7.90670654e-01]\n",
            " [ 6.74501145e-01 -5.92373012e-01  1.04694540e+00  1.18556721e+00]\n",
            " [ 1.64384411e+00 -1.31979479e-01  1.16062026e+00  5.27406285e-01]\n",
            " [ 1.88617985e+00 -5.92373012e-01  1.33113254e+00  9.22302838e-01]\n",
            " [ 2.49201920e+00  1.70959465e+00  1.50164482e+00  1.05393502e+00]\n",
            " [ 6.74501145e-01 -5.92373012e-01  1.04694540e+00  1.31719939e+00]\n",
            " [ 5.53333275e-01 -5.92373012e-01  7.62758269e-01  3.95774101e-01]\n",
            " [ 3.10997534e-01 -1.05276654e+00  1.04694540e+00  2.64141916e-01]\n",
            " [ 2.24968346e+00 -1.31979479e-01  1.33113254e+00  1.44883158e+00]\n",
            " [ 5.53333275e-01  7.88807586e-01  1.04694540e+00  1.58046376e+00]\n",
            " [ 6.74501145e-01  9.82172869e-02  9.90107977e-01  7.90670654e-01]\n",
            " [ 1.89829664e-01 -1.31979479e-01  5.92245988e-01  7.90670654e-01]\n",
            " [ 1.28034050e+00  9.82172869e-02  9.33270550e-01  1.18556721e+00]\n",
            " [ 1.03800476e+00  9.82172869e-02  1.04694540e+00  1.58046376e+00]\n",
            " [ 1.28034050e+00  9.82172869e-02  7.62758269e-01  1.44883158e+00]\n",
            " [-5.25060772e-02 -8.22569778e-01  7.62758269e-01  9.22302838e-01]\n",
            " [ 1.15917263e+00  3.28414053e-01  1.21745768e+00  1.44883158e+00]\n",
            " [ 1.03800476e+00  5.58610819e-01  1.10378283e+00  1.71209594e+00]\n",
            " [ 1.03800476e+00 -1.31979479e-01  8.19595696e-01  1.44883158e+00]\n",
            " [ 5.53333275e-01 -1.28296331e+00  7.05920842e-01  9.22302838e-01]\n",
            " [ 7.95669016e-01 -1.31979479e-01  8.19595696e-01  1.05393502e+00]\n",
            " [ 4.32165405e-01  7.88807586e-01  9.33270550e-01  1.44883158e+00]\n",
            " [ 6.86617933e-02 -1.31979479e-01  7.62758269e-01  7.90670654e-01]]\n"
          ]
        }
      ]
    },
    {
      "cell_type": "markdown",
      "id": "d0724cf3-bfe9-4877-802c-739e4f34b21c",
      "metadata": {
        "id": "d0724cf3-bfe9-4877-802c-739e4f34b21c"
      },
      "source": [
        "**Zadanie 4**\n",
        "Zaimplementuj funkcję, która dla danego wektora $\\mathbf{x}$ o długości $d$ oraz nieparzystej liczby naturalnej $k$ wyznaczy $k$-średnią ruchomą, $k < d$, tj. taki wektor $(w_1,\\dots,w_{d-k+1})$, że:\n",
        "$$w_i =\\sum_{j=1}^{k}\\frac{x_{i+j-1}}{k}$$\n",
        "\n",
        "Przykładowo:\n",
        "* dla tablicy `array([1, 2, 3, 4, 5, 6])` i `k = 3` rozwiązaniem jest `array([2., 3., 4., 5.])`"
      ]
    },
    {
      "cell_type": "code",
      "source": [
        "\n",
        "import numpy as np\n",
        "import seaborn as sns\n",
        "\n",
        "def moving_average(x, k):\n",
        "  if k % 2 == 0 or k >= len(x):\n",
        "    raise ValueError(\"k musi być liczbą nieparzystą mniejszą od długości wektora x.\")\n",
        "\n",
        "  result = []\n",
        "  for i in range(len(x) - k + 1):\n",
        "    window = x[i:i+k]\n",
        "    result.append(np.mean(window))\n",
        "\n",
        "  return np.array(result)\n",
        "\n",
        "x = np.array([1, 2, 3, 4, 5, 6])\n",
        "k = 3\n",
        "moving_average_result = moving_average(x, k)\n",
        "print(moving_average_result)\n"
      ],
      "metadata": {
        "colab": {
          "base_uri": "https://localhost:8080/"
        },
        "id": "ESSzgMRplvlU",
        "outputId": "4ca12039-580d-4812-9a28-b50f55cb693c"
      },
      "id": "ESSzgMRplvlU",
      "execution_count": 6,
      "outputs": [
        {
          "output_type": "stream",
          "name": "stdout",
          "text": [
            "[2. 3. 4. 5.]\n"
          ]
        }
      ]
    },
    {
      "cell_type": "markdown",
      "id": "8aaa311c-9038-4e12-b262-3f950a09de46",
      "metadata": {
        "id": "8aaa311c-9038-4e12-b262-3f950a09de46"
      },
      "source": [
        "**Zadanie 5**\n",
        "\n",
        "> Dodaj cytat blokowy\n",
        "\n",
        "\n",
        "Zaimplementuj algorytm sortowanie szybkiego wektorów wykorzystując funkcję/metodę `partition()`."
      ]
    },
    {
      "cell_type": "code",
      "source": [
        "def quick_sort_numpy(arr):\n",
        "    if len(arr) <= 1:\n",
        "        return arr\n",
        "\n",
        "    pivot = arr[len(arr) // 2]\n",
        "    left = arr[arr < pivot]\n",
        "    middle = arr[arr == pivot]\n",
        "    right = arr[arr > pivot]\n",
        "\n",
        "    return np.concatenate((quick_sort_numpy(left), middle, quick_sort_numpy(right)))\n",
        "\n",
        "arr = np.array([5, 2, 8, 1, 9, 4, 7, 3, 6])\n",
        "sorted_arr = quick_sort_numpy(arr)\n",
        "print(sorted_arr)\n"
      ],
      "metadata": {
        "colab": {
          "base_uri": "https://localhost:8080/"
        },
        "id": "DGPAT9_cl3Eu",
        "outputId": "15d3221e-7ec3-49c6-9ceb-f5ca3a00b4c2"
      },
      "id": "DGPAT9_cl3Eu",
      "execution_count": 7,
      "outputs": [
        {
          "output_type": "stream",
          "name": "stdout",
          "text": [
            "[1 2 3 4 5 6 7 8 9]\n"
          ]
        }
      ]
    },
    {
      "cell_type": "markdown",
      "id": "b22f7023-35f9-44f7-a8a4-adcc751a33ca",
      "metadata": {
        "id": "b22f7023-35f9-44f7-a8a4-adcc751a33ca"
      },
      "source": [
        "**Zadanie 6**\n",
        "Niech będzie dany wektor\n",
        "```python\n",
        "y = np.random.randint(0, 101, 50)\n",
        "```\n",
        "Wybierz z wektora $y$ wszystkie elementy, które należą do przedizalu $[25, 75]$. Uzyj ideksowania przy użyciu wektora logicznego!"
      ]
    },
    {
      "cell_type": "code",
      "source": [
        "y = np.random.randint(0, 101, 50)\n",
        "\n",
        "elements_in_range = y[(y >= 25) & (y <= 75)]\n",
        "\n",
        "print(elements_in_range)\n"
      ],
      "metadata": {
        "colab": {
          "base_uri": "https://localhost:8080/"
        },
        "id": "N-QpI2vmmCnC",
        "outputId": "1b0b5517-8d7f-448c-8daa-5161a4142707"
      },
      "id": "N-QpI2vmmCnC",
      "execution_count": 8,
      "outputs": [
        {
          "output_type": "stream",
          "name": "stdout",
          "text": [
            "[49 66 45 32 44 73 57 68 25 56 29 65 48 61 66 64 41 31 51 58 39 63 44 34]\n"
          ]
        }
      ]
    },
    {
      "cell_type": "markdown",
      "id": "4037c4a6-3074-4b12-afc2-121fc9da0f66",
      "metadata": {
        "id": "4037c4a6-3074-4b12-afc2-121fc9da0f66"
      },
      "source": [
        "**Zadanie 7**\n",
        "Napisz funkcję, która wywołując `unique()` (z odpowiednimi argumentami), wyznacza modę (dominantę) wartości w podanym wektorze."
      ]
    },
    {
      "cell_type": "code",
      "source": [
        "def mode_numpy(arr):\n",
        "  values, counts = np.unique(arr, return_counts=True)\n",
        "  mode = values[np.argmax(counts)]\n",
        "  return mode\n",
        "\n",
        "arr = np.array([1, 2, 2, 3, 3, 3, 4, 4, 4, 4])\n",
        "mode = mode_numpy(arr)\n",
        "print(f\"Moda wektora: {mode}\")\n"
      ],
      "metadata": {
        "colab": {
          "base_uri": "https://localhost:8080/"
        },
        "id": "flMD1f_qmGvZ",
        "outputId": "c0172002-08c1-4cb9-acdb-dc422e61804b"
      },
      "id": "flMD1f_qmGvZ",
      "execution_count": 9,
      "outputs": [
        {
          "output_type": "stream",
          "name": "stdout",
          "text": [
            "Moda wektora: 4\n"
          ]
        }
      ]
    },
    {
      "cell_type": "markdown",
      "id": "d0894fda-35c5-4b32-8e3a-0ad70a709f96",
      "metadata": {
        "id": "d0894fda-35c5-4b32-8e3a-0ad70a709f96"
      },
      "source": [
        "**Zadanie 8**\n",
        "Stwórz dwie macierze $3\\times 3$ (o nazwach `A` i `B`) z losowymi wartościami z zakresu $1-10$. Wykonaj na nich następujące operacje:\n",
        "* dodaj macierze `A` i `B`;\n",
        "* pomnóż macierze `A` i `B element po elemencie;\n",
        "* oblicz iloczyn macierzy (`A @ B`);\n",
        "* transponuj macierz `A`."
      ]
    },
    {
      "cell_type": "code",
      "source": [
        "A = np.random.randint(1, 11, size=(3, 3))\n",
        "B = np.random.randint(1, 11, size=(3, 3))\n",
        "\n",
        "print(\"Macierz A:\")\n",
        "print(A)\n",
        "print(\"\\nMacierz B:\")\n",
        "print(B)\n",
        "\n",
        "sum_AB = A + B\n",
        "print(\"\\nSuma macierzy A i B:\")\n",
        "print(sum_AB)\n",
        "\n",
        "elementwise_product_AB = A * B\n",
        "print(\"\\nMnożenie macierzy A i B element po elemencie:\")\n",
        "print(elementwise_product_AB)\n",
        "\n",
        "matrix_product_AB = A @ B\n",
        "print(\"\\nIloczyn macierzy A i B:\")\n",
        "print(matrix_product_AB)\n",
        "\n",
        "transpose_A = A.T\n",
        "print(\"\\nTranspozycja macierzy A:\")\n",
        "print(transpose_A)\n"
      ],
      "metadata": {
        "colab": {
          "base_uri": "https://localhost:8080/"
        },
        "id": "4-nMxU9WmMoL",
        "outputId": "baaa9db4-941f-4b52-cb6b-925e0b390ff4"
      },
      "id": "4-nMxU9WmMoL",
      "execution_count": 10,
      "outputs": [
        {
          "output_type": "stream",
          "name": "stdout",
          "text": [
            "Macierz A:\n",
            "[[ 8  8 10]\n",
            " [ 3  2  2]\n",
            " [ 8  5  7]]\n",
            "\n",
            "Macierz B:\n",
            "[[ 5  9  6]\n",
            " [ 9 10  9]\n",
            " [ 2  1  7]]\n",
            "\n",
            "Suma macierzy A i B:\n",
            "[[13 17 16]\n",
            " [12 12 11]\n",
            " [10  6 14]]\n",
            "\n",
            "Mnożenie macierzy A i B element po elemencie:\n",
            "[[40 72 60]\n",
            " [27 20 18]\n",
            " [16  5 49]]\n",
            "\n",
            "Iloczyn macierzy A i B:\n",
            "[[132 162 190]\n",
            " [ 37  49  50]\n",
            " [ 99 129 142]]\n",
            "\n",
            "Transpozycja macierzy A:\n",
            "[[ 8  3  8]\n",
            " [ 8  2  5]\n",
            " [10  2  7]]\n"
          ]
        }
      ]
    },
    {
      "cell_type": "markdown",
      "id": "8159a161-e794-403f-a154-fa3a97c5cf03",
      "metadata": {
        "id": "8159a161-e794-403f-a154-fa3a97c5cf03"
      },
      "source": [
        "**Zadanie 9**\n",
        "Utwórz jednowymiarową tablicę `x` o długości $20,$ składającą się z liczb od $1$ do $20$. Wykonaj następujące operacje:\n",
        "* wyciągnij z tablicy `x` elementy z indeksów od $4$ do $16$;\n",
        "* zwróć wszystkie elementy większe niż $8$;\n",
        "* zmień wszystkie elementy o wartościach podzielnych przez $3$  na $100$.   "
      ]
    },
    {
      "cell_type": "code",
      "source": [
        "x = np.arange(1, 21)\n",
        "\n",
        "elements_from_4_to_16 = x[4:17]\n",
        "print(\"Elementy z indeksów od 4 do 16:\", elements_from_4_to_16)\n",
        "\n",
        "elements_greater_than_8 = x[x > 8]\n",
        "print(\"Elementy większe niż 8:\", elements_greater_than_8)\n",
        "\n",
        "x[x % 3 == 0] = 100\n",
        "print(\"Tablica x po zmianie elementów podzielnych przez 3 na 100:\", x)\n"
      ],
      "metadata": {
        "colab": {
          "base_uri": "https://localhost:8080/"
        },
        "id": "_HJz_3emmToB",
        "outputId": "306b2091-9646-4699-b58e-3649542ea88d"
      },
      "id": "_HJz_3emmToB",
      "execution_count": 11,
      "outputs": [
        {
          "output_type": "stream",
          "name": "stdout",
          "text": [
            "Elementy z indeksów od 4 do 16: [ 5  6  7  8  9 10 11 12 13 14 15 16 17]\n",
            "Elementy większe niż 8: [ 9 10 11 12 13 14 15 16 17 18 19 20]\n",
            "Tablica x po zmianie elementów podzielnych przez 3 na 100: [  1   2 100   4   5 100   7   8 100  10  11 100  13  14 100  16  17 100\n",
            "  19  20]\n"
          ]
        }
      ]
    },
    {
      "cell_type": "markdown",
      "id": "2af1ec4f-211a-4717-b3d9-889fc139b11b",
      "metadata": {
        "id": "2af1ec4f-211a-4717-b3d9-889fc139b11b"
      },
      "source": [
        "**Zadanie 10**\n",
        "Stwórz wektor z losowymi liczbami całkowitymi z zakresu od $1$ do $100$ (np. $50$ elementów) i wykonaj na niej następujące operacje:\n",
        "* oblicz średnią, medianę i odchylenie standardowe;\n",
        "* znajdź minimalną i maksymalną wartość;\n",
        "* posortuj tablicę rosnąco."
      ]
    },
    {
      "cell_type": "code",
      "source": [
        "vector = np.random.randint(1, 101, 50)\n",
        "\n",
        "mean = np.mean(vector)\n",
        "median = np.median(vector)\n",
        "std = np.std(vector)\n",
        "\n",
        "print(\"Średnia:\", mean)\n",
        "print(\"Mediana:\", median)\n",
        "print(\"Odchylenie standardowe:\", std)\n",
        "\n",
        "min_value = np.min(vector)\n",
        "max_value = np.max(vector)\n",
        "\n",
        "print(\"Minimalna wartość:\", min_value)\n",
        "print(\"Maksymalna wartość:\", max_value)\n",
        "\n",
        "sorted_vector = np.sort(vector)\n",
        "\n",
        "print(\"Posortowany wektor:\", sorted_vector)\n"
      ],
      "metadata": {
        "colab": {
          "base_uri": "https://localhost:8080/"
        },
        "id": "2BxZqgsFmYrZ",
        "outputId": "ac259280-7956-47fc-838d-54a2224d9f79"
      },
      "id": "2BxZqgsFmYrZ",
      "execution_count": 12,
      "outputs": [
        {
          "output_type": "stream",
          "name": "stdout",
          "text": [
            "Średnia: 49.34\n",
            "Mediana: 47.0\n",
            "Odchylenie standardowe: 29.692834152367467\n",
            "Minimalna wartość: 1\n",
            "Maksymalna wartość: 100\n",
            "Posortowany wektor: [  1   1   4   7   8   9  11  17  17  18  24  25  26  27  29  30  30  30\n",
            "  33  33  35  35  40  47  47  47  52  54  55  60  61  61  64  68  69  72\n",
            "  75  77  77  78  84  86  87  87  87  93  96  96  97 100]\n"
          ]
        }
      ]
    },
    {
      "cell_type": "markdown",
      "id": "d280f0eb-fd17-43c6-ab2a-5ff8c4e42dfe",
      "metadata": {
        "id": "d280f0eb-fd17-43c6-ab2a-5ff8c4e42dfe"
      },
      "source": [
        "**Zadanie 11**\n",
        "Utwórz tablicę $5\\times5$ wypełnioną wartościami z rozkładu normalnego i wykonaj na niej następujące operacje:\n",
        "* oblicz sumę wartości dla każdego wiersza;\n",
        "* oblicz sumę wartości dla każdej kolumny;\n",
        "* znajdź indeksy wartości maksymalnej dla całej tablicy;\n",
        "* zastosuj macierz logiczną, aby znaleźć wszystkie wartości większe niż $0.5$;\n",
        "* zastąp wszystkie wartości mniejsze niż $-0.5$ lub większe od $0.5$ liczbą $0$."
      ]
    },
    {
      "cell_type": "code",
      "source": [
        "import numpy as np\n",
        "\n",
        "array = np.random.randn(5, 5)\n",
        "\n",
        "print(\"Tablica:\")\n",
        "print(array)\n",
        "\n",
        "row_sums = np.sum(array, axis=1)\n",
        "print(\"\\nSuma wartości dla każdego wiersza:\")\n",
        "print(row_sums)\n",
        "\n",
        "column_sums = np.sum(array, axis=0)\n",
        "print(\"\\nSuma wartości dla każdej kolumny:\")\n",
        "print(column_sums)\n",
        "\n",
        "max_value_indices = np.unravel_index(np.argmax(array), array.shape)\n",
        "print(\"\\nIndeksy wartości maksymalnej:\")\n",
        "print(max_value_indices)\n",
        "\n",
        "values_greater_than_0_5 = array[array > 0.5]\n",
        "print(\"\\nWartości większe niż 0.5:\")\n",
        "print(values_greater_than_0_5)\n",
        "\n",
        "array[(array < -0.5) | (array > 0.5)] = 0\n",
        "print(\"\\nTablica po zastąpieniu wartości mniejszych niż -0.5 lub większych od 0.5 liczbą 0:\")\n",
        "print(array)\n"
      ],
      "metadata": {
        "colab": {
          "base_uri": "https://localhost:8080/"
        },
        "id": "bY-YPeY5mewj",
        "outputId": "29b41da6-94b2-447c-c2c0-c52ce9249d91"
      },
      "id": "bY-YPeY5mewj",
      "execution_count": 13,
      "outputs": [
        {
          "output_type": "stream",
          "name": "stdout",
          "text": [
            "Tablica:\n",
            "[[-0.24132586 -1.26364873  0.34353975 -1.04348777  1.36754008]\n",
            " [ 0.79736101 -1.39654696 -1.1389966  -0.1916287   0.20813222]\n",
            " [ 0.621874    0.6170469   0.24945617  1.48934223  1.32166001]\n",
            " [-0.94370945 -0.39771287 -1.2937106   0.62870293 -1.53277726]\n",
            " [ 1.11966889  1.98274525  1.75609717  1.22242169 -0.01915246]]\n",
            "\n",
            "Suma wartości dla każdego wiersza:\n",
            "[-0.83738253 -1.72167904  4.2993793  -3.53920725  6.06178053]\n",
            "\n",
            "Suma wartości dla każdej kolumny:\n",
            "[ 1.35386858 -0.45811641 -0.08361411  2.10535038  1.34540258]\n",
            "\n",
            "Indeksy wartości maksymalnej:\n",
            "(4, 1)\n",
            "\n",
            "Wartości większe niż 0.5:\n",
            "[1.36754008 0.79736101 0.621874   0.6170469  1.48934223 1.32166001\n",
            " 0.62870293 1.11966889 1.98274525 1.75609717 1.22242169]\n",
            "\n",
            "Tablica po zastąpieniu wartości mniejszych niż -0.5 lub większych od 0.5 liczbą 0:\n",
            "[[-0.24132586  0.          0.34353975  0.          0.        ]\n",
            " [ 0.          0.          0.         -0.1916287   0.20813222]\n",
            " [ 0.          0.          0.24945617  0.          0.        ]\n",
            " [ 0.         -0.39771287  0.          0.          0.        ]\n",
            " [ 0.          0.          0.          0.         -0.01915246]]\n"
          ]
        }
      ]
    },
    {
      "cell_type": "markdown",
      "id": "23b9cdc6-affb-4a77-8719-feff22afbfaf",
      "metadata": {
        "id": "23b9cdc6-affb-4a77-8719-feff22afbfaf"
      },
      "source": [
        "**Zadanie 12**\n",
        "Utwórz funkcję funkcję $f(x) = x^3 - 2x + 1$. Użyj `numpy.vectorize()`, aby zmapować tę funkcję na tablicę jednowymiarową o wartościach od $-5$ do $5$."
      ]
    },
    {
      "cell_type": "code",
      "source": [
        "def f(x):\n",
        "  return x**3 - 2*x + 1\n",
        "\n",
        "x = np.arange(-5, 6)\n",
        "vectorized_f = np.vectorize(f)\n",
        "result = vectorized_f(x)\n",
        "\n",
        "print(result)\n"
      ],
      "metadata": {
        "colab": {
          "base_uri": "https://localhost:8080/"
        },
        "id": "IBBpWVq7mk5V",
        "outputId": "f031e3b0-9317-4425-a0b5-7d826a5424b7"
      },
      "id": "IBBpWVq7mk5V",
      "execution_count": 14,
      "outputs": [
        {
          "output_type": "stream",
          "name": "stdout",
          "text": [
            "[-114  -55  -20   -3    2    1    0    5   22   57  116]\n"
          ]
        }
      ]
    },
    {
      "cell_type": "markdown",
      "id": "28fb1d5f-c0b9-4e1b-9f67-7d3a609ccf03",
      "metadata": {
        "id": "28fb1d5f-c0b9-4e1b-9f67-7d3a609ccf03"
      },
      "source": [
        "**Zadanie 13**\n",
        "Dokonaj wektoryzacji własnej funkcji wyznaczające największy wspólny dzielnik. Wyznacza macierz największych wspólnych dzielników dla utworzonych tablic `A` i `B` o wymiarach $5\\times5$. Macierz `A` ma zawierać liczby losowe z zakresu $20 - 100$ a macierz `A` liczby z zakresu $2-20$. Oblicz liczbę wartości równych $1$ w macierzy dzielników."
      ]
    },
    {
      "cell_type": "code",
      "source": [
        "import seaborn as sns\n",
        "\n",
        "def gcd(a, b):\n",
        "  if b == 0:\n",
        "    return a\n",
        "  return gcd(b, a % b)\n",
        "\n",
        "vectorized_gcd = np.vectorize(gcd)\n",
        "\n",
        "A = np.random.randint(20, 101, size=(5, 5))\n",
        "B = np.random.randint(2, 21, size=(5, 5))\n",
        "\n",
        "gcd_matrix = vectorized_gcd(A, B)\n",
        "\n",
        "number_of_ones = np.sum(gcd_matrix == 1)\n",
        "\n",
        "print(\"Macierz A:\")\n",
        "print(A)\n",
        "print(\"\\nMacierz B:\")\n",
        "print(B)\n",
        "print(\"\\nMacierz największych wspólnych dzielników:\")\n",
        "print(gcd_matrix)\n",
        "print(\"\\nLiczba wartości równych 1 w macierzy dzielników:\", number_of_ones)\n"
      ],
      "metadata": {
        "colab": {
          "base_uri": "https://localhost:8080/"
        },
        "id": "Pwg0ia2YmoSy",
        "outputId": "ba4a3b0a-f7bc-470e-aea8-b78d2c582e30"
      },
      "id": "Pwg0ia2YmoSy",
      "execution_count": 15,
      "outputs": [
        {
          "output_type": "stream",
          "name": "stdout",
          "text": [
            "Macierz A:\n",
            "[[89 70 59 40 69]\n",
            " [56 21 50 27 46]\n",
            " [95 38 61 45 80]\n",
            " [55 97 40 47 98]\n",
            " [86 24 38 51 35]]\n",
            "\n",
            "Macierz B:\n",
            "[[15 17 18 16  7]\n",
            " [20  2 13 15  3]\n",
            " [ 8 12 15 14  6]\n",
            " [18 12 19 10 11]\n",
            " [10  2  7 18  3]]\n",
            "\n",
            "Macierz największych wspólnych dzielników:\n",
            "[[1 1 1 8 1]\n",
            " [4 1 1 3 1]\n",
            " [1 2 1 1 2]\n",
            " [1 1 1 1 1]\n",
            " [2 2 1 3 1]]\n",
            "\n",
            "Liczba wartości równych 1 w macierzy dzielników: 17\n"
          ]
        }
      ]
    },
    {
      "cell_type": "markdown",
      "id": "2f632580-7770-4f98-ad2c-62ea89e87abb",
      "metadata": {
        "id": "2f632580-7770-4f98-ad2c-62ea89e87abb"
      },
      "source": [
        "**Zadanie 14**\n",
        "Stwórz dwie tablice 2D o wymiarach $2\\times 3$ i wykonaj następujące operacje:\n",
        "* połącz obie tablice wzdłuż osi poziomej (oś `0`);\n",
        "* połącz obie tablice wzdłuż osi pionowej (oś `1`);\n",
        "* podziel wynikową tablicę z pkt 1 na dwie równe części wzdłuż osi poziomej (znajdź odpowiednią metodę)."
      ]
    },
    {
      "cell_type": "code",
      "source": [
        "\n",
        "array1 = np.random.randint(1, 10, size=(2, 3))\n",
        "array2 = np.random.randint(1, 10, size=(2, 3))\n",
        "\n",
        "print(\"Tablica 1:\")\n",
        "print(array1)\n",
        "print(\"\\nTablica 2:\")\n",
        "print(array2)\n",
        "\n",
        "horizontal_concat = np.concatenate((array1, array2), axis=0)\n",
        "print(\"\\nPołączenie wzdłuż osi poziomej:\")\n",
        "print(horizontal_concat)\n",
        "\n",
        "vertical_concat = np.concatenate((array1, array2), axis=1)\n",
        "print(\"\\nPołączenie wzdłuż osi pionowej:\")\n",
        "print(vertical_concat)\n",
        "\n",
        "split_arrays = np.split(horizontal_concat, 2, axis=0)\n",
        "print(\"\\nPodział wynikowej tablicy na dwie równe części wzdłuż osi poziomej:\")\n",
        "print(split_arrays)\n"
      ],
      "metadata": {
        "colab": {
          "base_uri": "https://localhost:8080/"
        },
        "id": "H62Znz71mue-",
        "outputId": "4c7a9217-cdf4-48c8-ea04-c2da44e4349f"
      },
      "id": "H62Znz71mue-",
      "execution_count": 16,
      "outputs": [
        {
          "output_type": "stream",
          "name": "stdout",
          "text": [
            "Tablica 1:\n",
            "[[4 3 2]\n",
            " [9 9 5]]\n",
            "\n",
            "Tablica 2:\n",
            "[[5 4 5]\n",
            " [5 4 7]]\n",
            "\n",
            "Połączenie wzdłuż osi poziomej:\n",
            "[[4 3 2]\n",
            " [9 9 5]\n",
            " [5 4 5]\n",
            " [5 4 7]]\n",
            "\n",
            "Połączenie wzdłuż osi pionowej:\n",
            "[[4 3 2 5 4 5]\n",
            " [9 9 5 5 4 7]]\n",
            "\n",
            "Podział wynikowej tablicy na dwie równe części wzdłuż osi poziomej:\n",
            "[array([[4, 3, 2],\n",
            "       [9, 9, 5]]), array([[5, 4, 5],\n",
            "       [5, 4, 7]])]\n"
          ]
        }
      ]
    },
    {
      "cell_type": "markdown",
      "id": "498238d9-817c-4c1b-a1c6-dd3538acf1cc",
      "metadata": {
        "id": "498238d9-817c-4c1b-a1c6-dd3538acf1cc"
      },
      "source": [
        "**Zadanie 15**\n",
        "Stwórz dwie macierze $6\\times 6$, o losowych wwartościach całkowitych z zakresu od $1-9$. Macierze o takich wymiarach można podzielić na mniejsze bloki $2\\times 2$. Napisz kod, który mnoży (element po elemencie) odpowiadające sobie bloki w macierzach i zapisuje wynik w nowej macierzy $6\\times 6$. Nie chodzi o zwykłe mnożenie dwóch całych macierzy o wymiarach $6\\times 6$ przez siebie - choć wynik będzie identyczny!!!"
      ]
    },
    {
      "cell_type": "code",
      "source": [
        "matrix1 = np.random.randint(1, 10, size=(6, 6))\n",
        "matrix2 = np.random.randint(1, 10, size=(6, 6))\n",
        "\n",
        "result_matrix = np.zeros((6, 6))\n",
        "\n",
        "for row in range(0, 6, 2):\n",
        "  for col in range(0, 6, 2):\n",
        "    block1 = matrix1[row:row+2, col:col+2]\n",
        "    block2 = matrix2[row:row+2, col:col+2]\n",
        "    result_matrix[row:row+2, col:col+2] = block1 * block2\n",
        "\n",
        "print(\"Macierz 1:\")\n",
        "print(matrix1)\n",
        "print(\"\\nMacierz 2:\")\n",
        "print(matrix2)\n",
        "print(\"\\nMacierz wynikowa (mnożenie bloków):\")\n",
        "print(result_matrix)\n"
      ],
      "metadata": {
        "colab": {
          "base_uri": "https://localhost:8080/"
        },
        "id": "SsfZ7tk1mz05",
        "outputId": "e153e5df-b954-404f-a233-d1da964de3c1"
      },
      "id": "SsfZ7tk1mz05",
      "execution_count": 17,
      "outputs": [
        {
          "output_type": "stream",
          "name": "stdout",
          "text": [
            "Macierz 1:\n",
            "[[3 2 8 2 7 3]\n",
            " [1 4 9 2 6 3]\n",
            " [6 3 1 6 6 6]\n",
            " [4 1 4 1 2 6]\n",
            " [6 4 7 6 7 1]\n",
            " [9 6 7 3 7 3]]\n",
            "\n",
            "Macierz 2:\n",
            "[[6 5 8 1 4 9]\n",
            " [4 6 7 8 9 4]\n",
            " [6 2 6 1 4 2]\n",
            " [9 1 9 1 9 2]\n",
            " [5 4 1 1 8 4]\n",
            " [7 8 6 7 1 3]]\n",
            "\n",
            "Macierz wynikowa (mnożenie bloków):\n",
            "[[18. 10. 64.  2. 28. 27.]\n",
            " [ 4. 24. 63. 16. 54. 12.]\n",
            " [36.  6.  6.  6. 24. 12.]\n",
            " [36.  1. 36.  1. 18. 12.]\n",
            " [30. 16.  7.  6. 56.  4.]\n",
            " [63. 48. 42. 21.  7.  9.]]\n"
          ]
        }
      ]
    },
    {
      "cell_type": "markdown",
      "id": "cc26fb66-de1d-445c-a977-9fb8f3434b79",
      "metadata": {
        "id": "cc26fb66-de1d-445c-a977-9fb8f3434b79"
      },
      "source": [
        "**Zadanie 16**\n",
        "Używając metody Monte Carlo, aproksymuj wartość liczby $pi$. Zaimplementuj to za pomocą losowego generowania punktów w kwadracie $[-1, 1]\\times [-1, 1]$, a następnie sprawdź, ile z tych punktów znajduje się wewnątrz  koła o promieniu $1$."
      ]
    },
    {
      "cell_type": "code",
      "execution_count": 19,
      "id": "70eb1fe8-4274-4812-bf4c-fd010ba3c216",
      "metadata": {
        "colab": {
          "base_uri": "https://localhost:8080/"
        },
        "id": "70eb1fe8-4274-4812-bf4c-fd010ba3c216",
        "outputId": "aa2ed7b7-aac9-4099-dabd-ca99d00c6e16"
      },
      "outputs": [
        {
          "output_type": "stream",
          "name": "stdout",
          "text": [
            "Aproksymacja liczby pi: 3.14128\n"
          ]
        }
      ],
      "source": [
        "def approximate_pi(num_points):\n",
        "  x = np.random.uniform(-1, 1, num_points)\n",
        "  y = np.random.uniform(-1, 1, num_points)\n",
        "\n",
        "  inside_circle = (x**2 + y**2) <= 1\n",
        "  num_points_inside = np.sum(inside_circle)\n",
        "\n",
        "  pi_approximation = 4 * (num_points_inside / num_points)\n",
        "  return pi_approximation\n",
        "\n",
        "num_points = 1000000\n",
        "pi_approximation = approximate_pi(num_points)\n",
        "\n",
        "print(f\"Aproksymacja liczby pi: {pi_approximation}\")\n"
      ]
    }
  ],
  "metadata": {
    "kernelspec": {
      "display_name": "Python 3 (ipykernel)",
      "language": "python",
      "name": "python3"
    },
    "language_info": {
      "codemirror_mode": {
        "name": "ipython",
        "version": 3
      },
      "file_extension": ".py",
      "mimetype": "text/x-python",
      "name": "python",
      "nbconvert_exporter": "python",
      "pygments_lexer": "ipython3",
      "version": "3.12.4"
    },
    "colab": {
      "provenance": []
    }
  },
  "nbformat": 4,
  "nbformat_minor": 5
}