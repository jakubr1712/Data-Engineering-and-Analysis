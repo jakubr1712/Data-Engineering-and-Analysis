{
  "cells": [
    {
      "cell_type": "markdown",
      "id": "8b8a7f6c-4eda-45fe-afd1-f976c184c2a2",
      "metadata": {
        "id": "8b8a7f6c-4eda-45fe-afd1-f976c184c2a2"
      },
      "source": [
        "# Notatnik Jupyter"
      ]
    },
    {
      "cell_type": "markdown",
      "id": "04eb229c-d1f3-4ee8-a0d4-f7388eed35f3",
      "metadata": {
        "id": "04eb229c-d1f3-4ee8-a0d4-f7388eed35f3"
      },
      "source": [
        "## Wstęp"
      ]
    },
    {
      "cell_type": "markdown",
      "id": "d602cb9b-ead7-45bd-9743-e52581946e50",
      "metadata": {
        "id": "d602cb9b-ead7-45bd-9743-e52581946e50"
      },
      "source": [
        "Praca ze standardowym interpreterem nie jest zbyt wygodna w kontekście interesującego nas obszaru zastosowań. Z tego względu będziemy używać nakładki Jupyter. Umożliwia ona tworzenie interaktywnych notatników, które mogą jednocześnie grać rolę raportów z analizy danych.\n",
        "\n",
        "W każdym z notatników mogą znajdować się m.in.:\n",
        "* wstawki z kodem języka Python;\n",
        "* wyniki obliczeń (takie, jakie są generowane na konsoli);\n",
        "* tabele;\n",
        "* wykresy."
      ]
    },
    {
      "cell_type": "markdown",
      "id": "e71413dc-4dba-4dab-9e38-4bf6d233824f",
      "metadata": {
        "id": "e71413dc-4dba-4dab-9e38-4bf6d233824f"
      },
      "source": [
        "**Zadanie 1**\n",
        "Uruchom serwer *Jupyter* klikając *Menu Start -> Anaconda3 -> Jupyter* Notebook pod Windows."
      ]
    },
    {
      "cell_type": "markdown",
      "id": "a60ab937-e30d-4dd0-8dde-22759ffe547f",
      "metadata": {
        "id": "a60ab937-e30d-4dd0-8dde-22759ffe547f"
      },
      "source": [
        "Jupyter automatycznie otwiera okno przeglądarki internetowej. To właśnie za jej pośrednictwem tworzymy nowy notatnik, klikając *New -> Python 3 -> Notebook*.  Warto od razu zmienić jego nazwę (domyślna to *Untiled*) Pliki notatnika  są zapisywane w katalogu roboczym z rozszerzeniem *.ipynb*."
      ]
    },
    {
      "cell_type": "markdown",
      "id": "7edd8c84-9275-45ef-918b-403a2b3d6c6a",
      "metadata": {
        "id": "7edd8c84-9275-45ef-918b-403a2b3d6c6a"
      },
      "source": [
        "**Zadanie 2**\n",
        "Zapoznaj się ze strukturą menu w oknie notatnika. Zwróć uwagę m.in. na opcje *Kernel -> Interrupt*, która pozwala przerwać zbyt długo wykonujące się obliczenia."
      ]
    },
    {
      "cell_type": "markdown",
      "id": "a530af6b-e187-48c1-954c-0200c0094556",
      "metadata": {
        "id": "a530af6b-e187-48c1-954c-0200c0094556"
      },
      "source": [
        "Aby zakończyć działanie serwer Jupyter, należy dwukrotnie wcisnąć klawisze `<CTRL+C>` powłoce lub wierszu poleceń."
      ]
    },
    {
      "cell_type": "markdown",
      "id": "5a41a40f-ef61-4107-9b2a-1ceeec83d979",
      "metadata": {
        "id": "5a41a40f-ef61-4107-9b2a-1ceeec83d979"
      },
      "source": [
        "## Tryby pracy"
      ]
    },
    {
      "cell_type": "markdown",
      "id": "b49bf8a9-809d-49ac-b9b7-6482008a59bb",
      "metadata": {
        "id": "b49bf8a9-809d-49ac-b9b7-6482008a59bb"
      },
      "source": [
        "Praca z notatnikiem Jupyter może odbywać się w dwóch trybach:\n",
        "* w trybie edycji (wprowadzanie kodu, ang. *edit mode*);\n",
        "* w trybie poleceń (zarządzanie komórkami, ang. *command mode*)."
      ]
    },
    {
      "cell_type": "markdown",
      "id": "2fa08d68-dd43-4710-98db-5034d074d076",
      "metadata": {
        "id": "2fa08d68-dd43-4710-98db-5034d074d076"
      },
      "source": [
        "*Tryb edycji* kody w komórce roboczej włączamy, używając klawisza `<ENTER>`. Do trybu poleceń przechodzimy z kolei, wciskając klawisz `<ESC>`."
      ]
    },
    {
      "cell_type": "markdown",
      "id": "db8ec980-d765-444a-a697-491e9e009e8b",
      "metadata": {
        "id": "db8ec980-d765-444a-a697-491e9e009e8b"
      },
      "source": [
        "Ewaluacja kodu następuje po nienaciśnięciu np. kombinacji klawiszy `<CTRL+ENTER>` lub `<ALT+ENTER>`. Pierwsza nich powoduje natychmiastowe przejście do trybu poleceń, a druga - utworzenie komórki w trybie edycji."
      ]
    },
    {
      "cell_type": "markdown",
      "id": "24975af9-b2c0-4d15-ab96-a8c9621567bd",
      "metadata": {
        "id": "24975af9-b2c0-4d15-ab96-a8c9621567bd"
      },
      "source": [
        "**Zadanie 3**\n",
        "Napisz przykładowy program w komórce notatnika i wykonaj go."
      ]
    },
    {
      "cell_type": "markdown",
      "source": [
        "##MWD\n"
      ],
      "metadata": {
        "id": "YWDY_NXmkRkE"
      },
      "id": "YWDY_NXmkRkE"
    },
    {
      "cell_type": "code",
      "source": [
        "# def gcd(a, b):\n",
        "#   while(b):\n",
        "#     a, b = b, a % b\n",
        "#   return a\n",
        "def gcd(a, b):\n",
        "    if b==0:\n",
        "      return a\n",
        "    else:\n",
        "      return gcd(b,a%b)\n",
        "\n",
        "a = 42\n",
        "b = 18\n",
        "nwd = gcd(a, b)\n",
        "print(f\"Największy wspólny dzielnik {a} i {b} wynosi: {nwd}\")"
      ],
      "metadata": {
        "id": "JUcHYdA7jpsU"
      },
      "id": "JUcHYdA7jpsU",
      "execution_count": null,
      "outputs": []
    },
    {
      "cell_type": "markdown",
      "id": "0689ae67-d554-487a-9ebb-93609bcf6868",
      "metadata": {
        "id": "0689ae67-d554-487a-9ebb-93609bcf6868"
      },
      "source": [
        "## Dyrektywy notatnika"
      ]
    },
    {
      "cell_type": "markdown",
      "id": "4dbd13fd-97c7-42d4-9ff3-71745205dd89",
      "metadata": {
        "id": "4dbd13fd-97c7-42d4-9ff3-71745205dd89"
      },
      "source": [
        "Przy użyciu  instrukcji `\"%\"`, możemy wprowadzać specjalne dyrektywy (ang. *IPython magic*), które są rozszerzeniem udostępnianym przez serwer Jupyter -  nie są one częścią składni języka Python. W szczególności dyrektyw te nie będą działać w zwykłym skrypcie język Python uruchamianym z poziomu powłoki. Przykładem takiej dyrektywy może być np. `%timeit`, która służy do pomiaru czasu wykonywania danej instrukcji zapisanej w jednej lini, np.:"
      ]
    },
    {
      "cell_type": "code",
      "execution_count": null,
      "id": "545d8670-cb7d-478b-b160-a5586f4369b4",
      "metadata": {
        "colab": {
          "base_uri": "https://localhost:8080/"
        },
        "id": "545d8670-cb7d-478b-b160-a5586f4369b4",
        "outputId": "45a86ffd-1a5a-45df-b322-647542fae9e8"
      },
      "outputs": [
        {
          "output_type": "stream",
          "name": "stdout",
          "text": [
            "14 ns ± 5.31 ns per loop (mean ± std. dev. of 7 runs, 1000 loops each)\n"
          ]
        }
      ],
      "source": [
        "%timeit -n 1000 2+3"
      ]
    },
    {
      "cell_type": "markdown",
      "id": "165afa0d-b8a4-411f-9d1c-df49893bceb2",
      "metadata": {
        "id": "165afa0d-b8a4-411f-9d1c-df49893bceb2"
      },
      "source": [
        "Powyższa dyrektywa została wywołana z dodatkowym argumentem `-n 1000`, który określa ile razy ma zastać wykonane podane dodawanie dwóch liczb całkowitych."
      ]
    },
    {
      "cell_type": "markdown",
      "id": "15dbc684-8f8d-427f-b180-db7c2ae0b728",
      "metadata": {
        "id": "15dbc684-8f8d-427f-b180-db7c2ae0b728"
      },
      "source": [
        "Jeśli chcesz zmierzyć czas wykonania kodu w całej komórce poprzez wielokrotne powtarzanie tego samego fragmentu kodu i uzyskanie średniej wartości, możesz użyć `%%timeit`."
      ]
    },
    {
      "cell_type": "markdown",
      "id": "bdbcfe10-c3c0-4ef8-ad39-3603d870c736",
      "metadata": {
        "id": "bdbcfe10-c3c0-4ef8-ad39-3603d870c736"
      },
      "source": [
        "**Zadanie 4**\n",
        "1. Napisz rekurencyjną i iteracyjną funkcję wyznaczającą n-ty wyraz ciągu Fibonacciego i zmierz czas ich działania dla argumentów: $n = 20$, $n = 30$, $n = 35$?\n",
        "2. Zmierz działanie tworzenie listy o liczbie lementów równej `100000` (liczb od $1$ do $100000$) za pomocą kostrukcji listy składanej oraz z użyciem metody `append()`."
      ]
    },
    {
      "cell_type": "code",
      "source": [
        "\n",
        "def fib_recursive(n):\n",
        "  if n <= 1:\n",
        "    return n\n",
        "  else:\n",
        "    return fib_recursive(n-1) + fib_recursive(n-2)\n",
        "\n",
        "def fib_iterative(n):\n",
        "  a, b = 0, 1\n",
        "  for _ in range(n):\n",
        "    a, b = b, a + b\n",
        "  return a\n",
        "\n",
        "print(\"Rekurencyjnie:\")\n",
        "%timeit fib_recursive(20)\n",
        "%timeit fib_recursive(30)\n",
        "%timeit fib_recursive(35)\n",
        "\n",
        "print(\"\\nIteracyjnie:\")\n",
        "%timeit fib_iterative(20)\n",
        "%timeit fib_iterative(30)\n",
        "%timeit fib_iterative(35)\n"
      ],
      "metadata": {
        "colab": {
          "base_uri": "https://localhost:8080/"
        },
        "id": "3niapuM7pEv7",
        "outputId": "0e4c37f0-8ee3-4684-e844-aa0e025bc586"
      },
      "id": "3niapuM7pEv7",
      "execution_count": null,
      "outputs": [
        {
          "output_type": "stream",
          "name": "stdout",
          "text": [
            "\n",
            "Iteracyjnie:\n",
            "1.53 µs ± 374 ns per loop (mean ± std. dev. of 7 runs, 1000000 loops each)\n",
            "2.29 µs ± 420 ns per loop (mean ± std. dev. of 7 runs, 1000000 loops each)\n",
            "2.28 µs ± 118 ns per loop (mean ± std. dev. of 7 runs, 100000 loops each)\n"
          ]
        }
      ]
    },
    {
      "cell_type": "code",
      "source": [
        "%%timeit\n",
        "T=[]\n",
        "for i in range(1,100001):\n",
        "  T.append(i);"
      ],
      "metadata": {
        "colab": {
          "base_uri": "https://localhost:8080/"
        },
        "id": "1UDRf1F4tkyR",
        "outputId": "5afa41f5-9f2f-480e-be59-d3e033f9909f"
      },
      "id": "1UDRf1F4tkyR",
      "execution_count": null,
      "outputs": [
        {
          "output_type": "stream",
          "name": "stdout",
          "text": [
            "7.84 ms ± 522 µs per loop (mean ± std. dev. of 7 runs, 100 loops each)\n"
          ]
        }
      ]
    },
    {
      "cell_type": "code",
      "source": [
        "%%timeit\n",
        "T=[i for i in range(1,100001)]"
      ],
      "metadata": {
        "colab": {
          "base_uri": "https://localhost:8080/"
        },
        "id": "IIbvDd4mt1TR",
        "outputId": "c000a5ef-4bbd-49a1-a63c-e7478fe24f78"
      },
      "id": "IIbvDd4mt1TR",
      "execution_count": null,
      "outputs": [
        {
          "output_type": "stream",
          "name": "stdout",
          "text": [
            "4.58 ms ± 1.22 ms per loop (mean ± std. dev. of 7 runs, 100 loops each)\n"
          ]
        }
      ]
    },
    {
      "cell_type": "markdown",
      "id": "905b4f6f-b257-4534-89ca-a007dc6472dc",
      "metadata": {
        "id": "905b4f6f-b257-4534-89ca-a007dc6472dc"
      },
      "source": [
        "Aby ułatwić sobie pracę z notatnikami, warto zapoznać się z podstawowymi skrótami klawiszowymi.\n",
        "W poniższej tabeli przedstawiono skróty używane najczyściej w trybie poleceń. Umożliwiają one np. tworzenie, uruchamianie, edycje oraz usuwanie nowych komórek.\n",
        "| skrót klawiszowy | znaczenie |\n",
        "|-----------|-----------|\n",
        "| `<CTRL+ENTER>` | wykonanie instrukcji zawartych w komórce |\n",
        "| `<ALT+ENTER>` | wykonanie instrukcji zawartych w danej komórce i utworzenie komórki poniżej |\n",
        "| `<SHIFT+ENTER>` | wykonanie instrukcji zawartych w danej komórce i przejście do kolejnej komórki |\n",
        "| `<B>` | utworzenie nowej pustej komórki pod komórką roboczą (tą, w której stoi kursor) |\n",
        "| `<A>` | utworzenie nowej pustej komórki nad komórką roboczą |\n",
        "| `<DD>` | usuniecie komórki roboczej |\n",
        "| `<X>`, `<C>`, `<V>` | odpowiednio: wycinanie, kopiowanie i wklejenie komórki |\n",
        "| `<Z>` | wycofanie wprowadzonych zmian |\n",
        "| `<Y>` | oznaczenie, że w komórce znajduje się kod w języku Python przeznaczony do ewaluacji (zachowanie domyślne)|\n",
        "| `<M>` | oznaczenie, że w komórce znajduje się kod w języku Markdown |\n",
        "| `<SHIFT+CTRL+H>`| wyświetlenie listy skrótów klawiszowych |"
      ]
    },
    {
      "cell_type": "markdown",
      "source": [
        "Aby ułatwić sobie pracę z notatnikami, warto zapoznać się z podstawowymi skrótami klawiszowymi.\n",
        "W poniższej tabeli przedstawiono skróty używane najczyściej w trybie poleceń. Umożliwiają one np. tworzenie, uruchamianie, edycje oraz usuwanie nowych komórek.\n",
        "| skrót klawiszowy | znaczenie |\n",
        "|-----------|-----------|\n",
        "| `<CTRL+ENTER>` | wykonanie instrukcji zawartych w komórce |\n",
        "| `<ALT+ENTER>` | wykonanie instrukcji zawartych w danej komórce i utworzenie komórki poniżej |\n",
        "| `<SHIFT+ENTER>` | wykonanie instrukcji zawartych w danej komórce i przejście do kolejnej komórki |\n",
        "| `<B>` | utworzenie nowej pustej komórki pod komórką roboczą (tą, w której stoi kursor) |\n",
        "| `<A>` | utworzenie nowej pustej komórki nad komórką roboczą |\n",
        "| `<DD>` | usuniecie komórki roboczej |\n",
        "| `<X>`, `<C>`, `<V>` | odpowiednio: wycinanie, kopiowanie i wklejenie komórki |\n",
        "| `<Z>` | wycofanie wprowadzonych zmian |\n",
        "| `<Y>` | oznaczenie, że w komórce znajduje się kod w języku Python przeznaczony do ewaluacji (zachowanie domyślne)|\n",
        "| `<M>` | oznaczenie, że w komórce znajduje się kod w języku Markdown |\n",
        "| `<SHIFT+CTRL+H>`| wyświetlenie listy skrótów klawiszowych |"
      ],
      "metadata": {
        "id": "2cR0IVklu09h"
      },
      "id": "2cR0IVklu09h"
    },
    {
      "cell_type": "markdown",
      "id": "ae9acdce-25ae-471b-92db-202f7523c688",
      "metadata": {
        "id": "ae9acdce-25ae-471b-92db-202f7523c688"
      },
      "source": [
        "W trybie edycji mamy dostęp m.in do automatycznego uzupełniania wprowadzanych nazw (`<TAB>`), wyróżniania tekstu wcięciem (`<CTRL+]>`, `<CTRL+[>`), umieszczania bloku tekstu w komentarzu (`<CTRL+/>`), a także wszystkich skrótów klawiszowych znanych z innych edytorów tekstowych."
      ]
    },
    {
      "cell_type": "markdown",
      "id": "bc24bc40-0750-4d07-85ca-216000316214",
      "metadata": {
        "id": "bc24bc40-0750-4d07-85ca-216000316214"
      },
      "source": [
        "**Zadanie 5**\n",
        "Zapoznaj się z opisem dostępnych skrótów klawiszowych wciskając w trybie poleceń skrótu `<SHIFT+CTRL+H>`."
      ]
    },
    {
      "cell_type": "markdown",
      "id": "3c025b9f-4077-4a00-8478-0b480153de80",
      "metadata": {
        "id": "3c025b9f-4077-4a00-8478-0b480153de80"
      },
      "source": [
        "## Podstawy języka Markdown"
      ]
    },
    {
      "cell_type": "markdown",
      "id": "e341bf74-52bb-4539-ac48-0df444646bfc",
      "metadata": {
        "id": "e341bf74-52bb-4539-ac48-0df444646bfc"
      },
      "source": [
        "Skróty `<Y>` oraz `<M>` (w trybie pozwalają) pozwalają na zamianę typu danej komórki roboczej. Domyślnie nowo tworzone komórki są przygotowane do wprowadzania kodu w języku Python. Jednak w przypadku tworzenia np. raportów z analizy danych przydatna okazuje się możliwość wprowadzania \"wolnych\" partii tekstu oraz jego formatowania.  W tym celu możemy wykorzystać prosty i popularny język znaczników jakim jest *Markdown*."
      ]
    },
    {
      "cell_type": "markdown",
      "id": "c363c551-46a9-44d1-95fe-cc97bb740970",
      "metadata": {
        "id": "c363c551-46a9-44d1-95fe-cc97bb740970"
      },
      "source": [
        "Wynik działania poleceń w języku Markdown, możemy zobaczyć wciskając kombinacje klawiszy `<CTRL+ENTER>`, `<ALT+ENTER>` lub `<SHIFT+ENTER>`."
      ]
    },
    {
      "cell_type": "markdown",
      "id": "b4f77815-58a8-4127-8c73-b162b3a479c0",
      "metadata": {
        "id": "b4f77815-58a8-4127-8c73-b162b3a479c0"
      },
      "source": [
        "### Podział tekstu  akapity , sekcje itd."
      ]
    },
    {
      "cell_type": "markdown",
      "id": "91265226-3076-4aa3-b2f4-930013c5a46c",
      "metadata": {
        "id": "91265226-3076-4aa3-b2f4-930013c5a46c"
      },
      "source": [
        "Aby wprowadzony tekst podzielić na akapity, należy w stosownym miejscu wstawić pusty wiersz.\n",
        "\n",
        "Poszczególne części tekstu możemy pogrupować, wstawiając nagłówki. Tworzymy je przy użyciu ciągi znaków `\"#\"`. Rozmiar nagłówka zależy od liczby znaków `\"#\"` umieszczonych przed stosowną etykietą. Przykładowo mamy:\n",
        "```\n",
        "#   Nagłówek 1\n",
        "##  Nagłówek 2\n",
        "### Nagłowke 3\n",
        "\n",
        "Przepraszam, ale nic z tego nie rozumiem.         Czy może pan to\n",
        "         lepiej wytłumaczyć?\n",
        "         \n",
        "Przykro mi, ale to                   jest trywialne.\n",
        "```"
      ]
    },
    {
      "cell_type": "markdown",
      "id": "fb43c219-553b-4fc5-9cce-6fa5946e2f03",
      "metadata": {
        "id": "fb43c219-553b-4fc5-9cce-6fa5946e2f03"
      },
      "source": [
        "**Zadanie 6**\n",
        "Wykonaj powyższy kod jako komórkę kodu Markdown."
      ]
    },
    {
      "cell_type": "markdown",
      "id": "7f6f09f9-d244-47af-9304-1111ad286953",
      "metadata": {
        "id": "7f6f09f9-d244-47af-9304-1111ad286953"
      },
      "source": [
        "### Formatowanie tekstu"
      ]
    },
    {
      "cell_type": "markdown",
      "id": "344bfa95-269a-4bda-bad9-859a744803e5",
      "metadata": {
        "id": "344bfa95-269a-4bda-bad9-859a744803e5"
      },
      "source": [
        "Fragmenty tekstu możemy wyróżnić np. przy użyciu pogrubienia lub kursywy. Odpowiednie style uzyskamy, korzystając z następującej notacji:\n",
        "```\n",
        "_kursywa_\n",
        "**pogrubienie**\n",
        "`kod`\n",
        "~~przekreślenie~~\n",
        "```"
      ]
    },
    {
      "cell_type": "markdown",
      "source": [
        "<b><li>g\n",
        "<h2>gs\n",
        "<i>hej"
      ],
      "metadata": {
        "id": "S6BjmONmvVTx"
      },
      "id": "S6BjmONmvVTx"
    },
    {
      "cell_type": "markdown",
      "id": "c28a50b1-02d7-4967-afba-9c067c19d2d0",
      "metadata": {
        "id": "c28a50b1-02d7-4967-afba-9c067c19d2d0"
      },
      "source": [
        "**Zadanie 7**\n",
        "Wykonaj powyższy kod jako komórkę kodu Markdown."
      ]
    },
    {
      "cell_type": "markdown",
      "id": "46a22230-4a66-4ad0-82fb-a47a77582366",
      "metadata": {
        "id": "46a22230-4a66-4ad0-82fb-a47a77582366"
      },
      "source": [
        "### Wypunktowania i listy"
      ]
    },
    {
      "cell_type": "markdown",
      "id": "5c1984fd-f677-4ccf-992e-b7fbcd0e9d6c",
      "metadata": {
        "id": "5c1984fd-f677-4ccf-992e-b7fbcd0e9d6c"
      },
      "source": [
        "Listy wypunktowanie tworzymy, stawiając znak `\"*\"`, `\"+\"` lub `\"-\"` przed każdym elementem, np:\n",
        "```\n",
        "* Jan\n",
        "* Tomasz\n",
        "* Anna\n",
        "```\n",
        "Z kolei listy o elementach numerowych tworzymy przy użyciu liczb i kropki, np.:\n",
        "```\n",
        "1. Maria\n",
        "2. Dawid\n",
        "3. Julia\n",
        "```\n",
        "Możesz również tworzyć zagnieżdżone listy, stosując wcięcia:\n",
        "```\n",
        "1. Pierwszy element\n",
        "   - Podpunkt 1\n",
        "   - Podpunkt 2\n",
        "2. Drugi element\n",
        "   1. Podpunkt 1\n",
        "   2. Podpunkt 2\n",
        "```"
      ]
    },
    {
      "cell_type": "markdown",
      "id": "dbd09cff-f672-4026-a47a-e7eb728caf8d",
      "metadata": {
        "id": "dbd09cff-f672-4026-a47a-e7eb728caf8d"
      },
      "source": [
        "**Zadanie 8**\n",
        "Utwóż kilka przykładowych list w jezyku Markdown."
      ]
    },
    {
      "cell_type": "markdown",
      "id": "bce627d2-f0e1-443d-9691-71808d76a25a",
      "metadata": {
        "id": "bce627d2-f0e1-443d-9691-71808d76a25a"
      },
      "source": [
        "### Wprowadzanie kodu"
      ]
    },
    {
      "cell_type": "markdown",
      "id": "cefd6246-8a41-4755-91e5-f5986bbd808f",
      "metadata": {
        "id": "cefd6246-8a41-4755-91e5-f5986bbd808f"
      },
      "source": [
        "Kod, który chcemy jedynie zacytować, możemy wprowadzić używają sybolów odwrotnego apostrofu (\\`). Jeżeli chcemy wstawić bolk kodu nalezy użyć trzech odwrotnych apostrofów (\\`\\`\\`) przed i po bloku kodu, aby wstawić większy fragment, opcjonalnie dodając nazwę języka (np. python) po apostrofach otwierających blok. Np.\n",
        "\n",
        "\\`\\`\\`python\\\n",
        "x = 44\\\n",
        "print(x)\\\n",
        "\\`\\`\\`"
      ]
    },
    {
      "cell_type": "markdown",
      "source": [
        "```python\n",
        "x = 44\n",
        "print(x)\n",
        "```"
      ],
      "metadata": {
        "id": "W7-pSZh2xdHY"
      },
      "id": "W7-pSZh2xdHY"
    },
    {
      "cell_type": "markdown",
      "id": "07534eb2-c479-423d-82dc-b966b144e3de",
      "metadata": {
        "id": "07534eb2-c479-423d-82dc-b966b144e3de"
      },
      "source": [
        "**Zadanie 9**\n",
        "Napisz i wprowadź przykładowy kod języka Python jako kod w komórce Markdown."
      ]
    },
    {
      "cell_type": "markdown",
      "id": "22bea014-57a2-4dd7-96f3-4efbe2c2f197",
      "metadata": {
        "id": "22bea014-57a2-4dd7-96f3-4efbe2c2f197"
      },
      "source": [
        "### Wzory i wyrażenia matematyczne"
      ]
    },
    {
      "cell_type": "markdown",
      "id": "cbb8c78c-c744-41d0-8d8a-51057138629b",
      "metadata": {
        "id": "cbb8c78c-c744-41d0-8d8a-51057138629b"
      },
      "source": [
        "Wzory oraz wyrażenia matematyczne możemy umieszczać w notatkach, korzystając z konwencji języka TEX:\n",
        "```\n",
        "Wzór *inline*: $f(x) = \\sqrt(x)$\n",
        "\n",
        "Tryb blokowy:\n",
        "$$\n",
        "f(x) = \\frac{\\sqrt(x)}{2}\n",
        "$$\n",
        "```"
      ]
    },
    {
      "cell_type": "markdown",
      "id": "1a365e92-cda2-4790-8e7f-8bcaa5ee6465",
      "metadata": {
        "id": "1a365e92-cda2-4790-8e7f-8bcaa5ee6465"
      },
      "source": [
        "**Zadanie 10**\n",
        " Wykonaj powyższy kod jako komórkę kodu Markdown."
      ]
    },
    {
      "cell_type": "markdown",
      "id": "7bcd1a17-4731-4c29-80a3-bb50f67da356",
      "metadata": {
        "id": "7bcd1a17-4731-4c29-80a3-bb50f67da356"
      },
      "source": [
        "Wzór *inline*: $f(x) = \\sqrt(x)$\n",
        "\n",
        "Tryb blokowy:\n",
        "$$\n",
        "f(x) = \\frac{\\sqrt(x)}{2}\n",
        "$$"
      ]
    },
    {
      "cell_type": "markdown",
      "id": "8fded365-0ef9-4766-bb08-2c510747bb54",
      "metadata": {
        "id": "8fded365-0ef9-4766-bb08-2c510747bb54"
      },
      "source": [
        "**Zadanie 11** Korzystając konwencji języka TEX w Markdown napisz:\n",
        "- wzór na jedynkę trygonometryczną;\n",
        "- wzór szeregu harmonicznego w użyciem symbolu sumy oraz jako sumę kliku początkowych składników i sybolu wielokropka;\n",
        "- całkę oznaczoną z dunkcji wyniernej."
      ]
    },
    {
      "cell_type": "markdown",
      "source": [
        "<h3> Wzór na jedynkę trygonometryczną:\n",
        " $$sin^2(x) + cos^2(x) = 1$$\n",
        "\n",
        "<h3> Wzór szeregu harmonicznego:\n",
        " $$\\sum_{n=1}^{\\infty} \\frac{1}{n} = 1 + \\frac{1}{2} + \\frac{1}{3} + \\frac{1}{4} + ...$$\n",
        "\n",
        "<h3> Całka oznaczona z funkcji wykładniczej:\n",
        " $$\\int_{0}^{1} e^x dx$$\n"
      ],
      "metadata": {
        "id": "lolQhiV8wmzQ"
      },
      "id": "lolQhiV8wmzQ"
    },
    {
      "cell_type": "markdown",
      "id": "499dab55-7ad3-4317-849b-0853572bc555",
      "metadata": {
        "id": "499dab55-7ad3-4317-849b-0853572bc555"
      },
      "source": [
        "### Tabele"
      ]
    },
    {
      "cell_type": "markdown",
      "id": "403b3edb-e515-43ed-9fe8-a8fdd301448a",
      "metadata": {
        "id": "403b3edb-e515-43ed-9fe8-a8fdd301448a"
      },
      "source": [
        "Markdown umożliwia każe bardzo łatwe wprowadzanie tabel. Dokonujemy tego przy użyciu znaków \"-\" oraz \"|\", jak na poniższym przykładzie:\n",
        "```\n",
        "|Lp.  |Danie     |\n",
        "|-----|----------|\n",
        "|1    |mielonka  |\n",
        "|2    |pasztetowa|\n",
        "```"
      ]
    },
    {
      "cell_type": "markdown",
      "id": "7cc09e0c-02a3-4898-955e-12e104140d4c",
      "metadata": {
        "id": "7cc09e0c-02a3-4898-955e-12e104140d4c"
      },
      "source": [
        "**Zadanie 12**\n",
        "Utwórz przykładową tabelę siły wiatru w uproszczonej skali Beauforta."
      ]
    },
    {
      "cell_type": "markdown",
      "source": [
        "| Siła wiatru | Opis |\n",
        "|---|---|\n",
        "| 0 | Cisza |\n",
        "| 1-3 | Lekki wiatr |\n",
        "| 4-6 | Umiarkowany wiatr |\n",
        "| 7-9 | Silny wiatr |\n",
        "| 10-12 | Bardzo silny wiatr |\n"
      ],
      "metadata": {
        "id": "fw2GfVS9xDRw"
      },
      "id": "fw2GfVS9xDRw"
    },
    {
      "cell_type": "markdown",
      "id": "83374261-a2bf-404e-b0f5-ee389e49f8c6",
      "metadata": {
        "id": "83374261-a2bf-404e-b0f5-ee389e49f8c6"
      },
      "source": [
        "### Odnośniki"
      ]
    },
    {
      "cell_type": "markdown",
      "id": "4d3757f3-f194-492b-a6fc-8643605ea6d1",
      "metadata": {
        "id": "4d3757f3-f194-492b-a6fc-8643605ea6d1"
      },
      "source": [
        "W dokumentach tworzonych przy użyciu języka Markdown można zamieszczać odnośniki do stron internetowych. W tym celu korzystamy  z nawiasów kwadratowych, w których umieszczamy etykietę do wyświetlania w tekście. sam adres podajemy w nawiasach okrągłych. Na przykład:\n",
        "```\n",
        "[kliknij mnie](http://python.org)\n",
        "```"
      ]
    },
    {
      "cell_type": "markdown",
      "source": [
        "[kliknij mnie](http://python.org)"
      ],
      "metadata": {
        "id": "ZIpY-4iAxpKA"
      },
      "id": "ZIpY-4iAxpKA"
    },
    {
      "cell_type": "markdown",
      "id": "d0678c4d-743d-470c-b82b-aad88a5af1be",
      "metadata": {
        "id": "d0678c4d-743d-470c-b82b-aad88a5af1be"
      },
      "source": [
        "### Obrazki\n",
        "W podobny sposób możemy wstawić obrazki. Tym razem jednak poprzedzamy całe polecenie wykrzyknikiem, a w nawisach okrągłych umieszczamy odnośnik lub ścieżkę dostępu do pliku na dysku:\n",
        "```\n",
        "![etykieta](http://python.org//static/img/python-logo.png)\n",
        "```"
      ]
    },
    {
      "cell_type": "markdown",
      "source": [
        "![etykieta](http://python.org//static/img/python-logo.png)"
      ],
      "metadata": {
        "id": "elkgnjCbxmYZ"
      },
      "id": "elkgnjCbxmYZ"
    },
    {
      "cell_type": "markdown",
      "id": "b3db7c3f-a42b-4eb7-9a4d-795acdf566f8",
      "metadata": {
        "id": "b3db7c3f-a42b-4eb7-9a4d-795acdf566f8"
      },
      "source": [
        "**Zadanie 13**\n",
        "W pliku *pairs.txt* znajduje się $100$ wierszy. Każdy wiersz zawiera parę danych składającą się z liczby całkowitej z przedziału od $3$ do $100$ i słowa (ciągu znaków) złożonego z małych liter alfabetu angielskiego o długości od $1$ do $50$ znaków. Liczba i słowo są oddzielone znakiem spacji. Napisz program w notatniku Jupyter, dający odpowiedzi do poniższych zadań. Użyj język Markdown do sformatowania swojego notatnika! Plik z danymi znajdziesz na platformie Moodle.\n",
        "1. Mocna hipoteza Goldbacha mówi, że każda parzysta liczba całkowita większa od 4 jest sumą dwóch nieparzystych liczb pierwszych, np. liczba $20$ jest równa sumie $3 + 17$ lub sumie $7 + 13$. Każdą liczbę parzystą z pliku *pairs.txt* przedstaw w postaci sumy dwóch liczb pierwszych. Wypisz tę liczbę oraz dwa składniki sumy w kolejności niemalejącej. Jeżeli istnieje więcej rozwiązań (tak jak dla liczby $20$) należy wypisać składniki sumy o największej różnicy. Wyniki podaj w oddzielnych wierszach, w kolejności zgodnej z kolejnością danych w pliku *pairs.txt*. Liczby w każdym wierszu rozdziel znakiem spacji, np. dla liczby $20$ należy wypisać `20 3 17`.\n",
        "2. Dla każdego słowa z pliku *pairs.txt* znajdź długość najdłuższego spójnego fragmentu tego słowa złożonego z identycznych liter. Wypisz znalezione fragmenty słów i ich długości oddzielone spacją, po jednej parze w każdym wierszu. Jeżeli istnieją dwa fragmenty o takiej samej największej długości, podaj pierwszy z nich. Wyniki podaj w kolejności zgodnej z kolejnością danych w pliku *pairs.txt*.\n",
        "   \n",
        "    <u>Przykład:</u>\n",
        "    dla słowa `zxyzzzz` wynikiem jest: `zzzz 4` natomiast dla słowa `kkkabbb` wynikiem jest: `kkk 3`\n",
        "4. Para `(liczba1, słowo1)` jest mniejsza od pary `(liczba2, słowo2)`, gdy:\n",
        " `– liczba1 < liczba2`,\n",
        " albo\n",
        " `– liczba1 = liczba2` oraz `słowo1` jest leksykograficznie (w porządku alfabetycznym) mniejsze od `słowo2`.\n",
        "\n",
        "    <u>Przykład:</u>\n",
        "    para `(1, bbbb)` jest mniejsza od pary `(2, aaa)`, natomiast para `(3, aaa)` jest mniejsza od pary `(3, ab)`. Rozważ wszystkie pary `(liczba, słowo)` zapisane w wierszach pliku *pairs.txt*, dla których liczba jest równa długości słowa, i wypisz spośród nich taką parę, która jest mniejsza od wszystkich pozostałych. W pliku *pairs.txt* jest jedna taka para."
      ]
    },
    {
      "cell_type": "code",
      "source": [
        "\n",
        "from google.colab import files\n",
        "\n",
        "uploaded = files.upload()\n",
        "\n",
        "for fn in uploaded.keys():\n",
        "  print('User uploaded file \"{name}\" with length {length} bytes'.format(\n",
        "      name=fn, length=len(uploaded[fn])))\n"
      ],
      "metadata": {
        "colab": {
          "base_uri": "https://localhost:8080/",
          "height": 90
        },
        "id": "7ofEG8zu2vFr",
        "outputId": "5957b629-a926-4494-be95-187efac9e657"
      },
      "id": "7ofEG8zu2vFr",
      "execution_count": null,
      "outputs": [
        {
          "output_type": "display_data",
          "data": {
            "text/plain": [
              "<IPython.core.display.HTML object>"
            ],
            "text/html": [
              "\n",
              "     <input type=\"file\" id=\"files-d26f6700-f626-47e6-b491-ac08b2063b9e\" name=\"files[]\" multiple disabled\n",
              "        style=\"border:none\" />\n",
              "     <output id=\"result-d26f6700-f626-47e6-b491-ac08b2063b9e\">\n",
              "      Upload widget is only available when the cell has been executed in the\n",
              "      current browser session. Please rerun this cell to enable.\n",
              "      </output>\n",
              "      <script>// Copyright 2017 Google LLC\n",
              "//\n",
              "// Licensed under the Apache License, Version 2.0 (the \"License\");\n",
              "// you may not use this file except in compliance with the License.\n",
              "// You may obtain a copy of the License at\n",
              "//\n",
              "//      http://www.apache.org/licenses/LICENSE-2.0\n",
              "//\n",
              "// Unless required by applicable law or agreed to in writing, software\n",
              "// distributed under the License is distributed on an \"AS IS\" BASIS,\n",
              "// WITHOUT WARRANTIES OR CONDITIONS OF ANY KIND, either express or implied.\n",
              "// See the License for the specific language governing permissions and\n",
              "// limitations under the License.\n",
              "\n",
              "/**\n",
              " * @fileoverview Helpers for google.colab Python module.\n",
              " */\n",
              "(function(scope) {\n",
              "function span(text, styleAttributes = {}) {\n",
              "  const element = document.createElement('span');\n",
              "  element.textContent = text;\n",
              "  for (const key of Object.keys(styleAttributes)) {\n",
              "    element.style[key] = styleAttributes[key];\n",
              "  }\n",
              "  return element;\n",
              "}\n",
              "\n",
              "// Max number of bytes which will be uploaded at a time.\n",
              "const MAX_PAYLOAD_SIZE = 100 * 1024;\n",
              "\n",
              "function _uploadFiles(inputId, outputId) {\n",
              "  const steps = uploadFilesStep(inputId, outputId);\n",
              "  const outputElement = document.getElementById(outputId);\n",
              "  // Cache steps on the outputElement to make it available for the next call\n",
              "  // to uploadFilesContinue from Python.\n",
              "  outputElement.steps = steps;\n",
              "\n",
              "  return _uploadFilesContinue(outputId);\n",
              "}\n",
              "\n",
              "// This is roughly an async generator (not supported in the browser yet),\n",
              "// where there are multiple asynchronous steps and the Python side is going\n",
              "// to poll for completion of each step.\n",
              "// This uses a Promise to block the python side on completion of each step,\n",
              "// then passes the result of the previous step as the input to the next step.\n",
              "function _uploadFilesContinue(outputId) {\n",
              "  const outputElement = document.getElementById(outputId);\n",
              "  const steps = outputElement.steps;\n",
              "\n",
              "  const next = steps.next(outputElement.lastPromiseValue);\n",
              "  return Promise.resolve(next.value.promise).then((value) => {\n",
              "    // Cache the last promise value to make it available to the next\n",
              "    // step of the generator.\n",
              "    outputElement.lastPromiseValue = value;\n",
              "    return next.value.response;\n",
              "  });\n",
              "}\n",
              "\n",
              "/**\n",
              " * Generator function which is called between each async step of the upload\n",
              " * process.\n",
              " * @param {string} inputId Element ID of the input file picker element.\n",
              " * @param {string} outputId Element ID of the output display.\n",
              " * @return {!Iterable<!Object>} Iterable of next steps.\n",
              " */\n",
              "function* uploadFilesStep(inputId, outputId) {\n",
              "  const inputElement = document.getElementById(inputId);\n",
              "  inputElement.disabled = false;\n",
              "\n",
              "  const outputElement = document.getElementById(outputId);\n",
              "  outputElement.innerHTML = '';\n",
              "\n",
              "  const pickedPromise = new Promise((resolve) => {\n",
              "    inputElement.addEventListener('change', (e) => {\n",
              "      resolve(e.target.files);\n",
              "    });\n",
              "  });\n",
              "\n",
              "  const cancel = document.createElement('button');\n",
              "  inputElement.parentElement.appendChild(cancel);\n",
              "  cancel.textContent = 'Cancel upload';\n",
              "  const cancelPromise = new Promise((resolve) => {\n",
              "    cancel.onclick = () => {\n",
              "      resolve(null);\n",
              "    };\n",
              "  });\n",
              "\n",
              "  // Wait for the user to pick the files.\n",
              "  const files = yield {\n",
              "    promise: Promise.race([pickedPromise, cancelPromise]),\n",
              "    response: {\n",
              "      action: 'starting',\n",
              "    }\n",
              "  };\n",
              "\n",
              "  cancel.remove();\n",
              "\n",
              "  // Disable the input element since further picks are not allowed.\n",
              "  inputElement.disabled = true;\n",
              "\n",
              "  if (!files) {\n",
              "    return {\n",
              "      response: {\n",
              "        action: 'complete',\n",
              "      }\n",
              "    };\n",
              "  }\n",
              "\n",
              "  for (const file of files) {\n",
              "    const li = document.createElement('li');\n",
              "    li.append(span(file.name, {fontWeight: 'bold'}));\n",
              "    li.append(span(\n",
              "        `(${file.type || 'n/a'}) - ${file.size} bytes, ` +\n",
              "        `last modified: ${\n",
              "            file.lastModifiedDate ? file.lastModifiedDate.toLocaleDateString() :\n",
              "                                    'n/a'} - `));\n",
              "    const percent = span('0% done');\n",
              "    li.appendChild(percent);\n",
              "\n",
              "    outputElement.appendChild(li);\n",
              "\n",
              "    const fileDataPromise = new Promise((resolve) => {\n",
              "      const reader = new FileReader();\n",
              "      reader.onload = (e) => {\n",
              "        resolve(e.target.result);\n",
              "      };\n",
              "      reader.readAsArrayBuffer(file);\n",
              "    });\n",
              "    // Wait for the data to be ready.\n",
              "    let fileData = yield {\n",
              "      promise: fileDataPromise,\n",
              "      response: {\n",
              "        action: 'continue',\n",
              "      }\n",
              "    };\n",
              "\n",
              "    // Use a chunked sending to avoid message size limits. See b/62115660.\n",
              "    let position = 0;\n",
              "    do {\n",
              "      const length = Math.min(fileData.byteLength - position, MAX_PAYLOAD_SIZE);\n",
              "      const chunk = new Uint8Array(fileData, position, length);\n",
              "      position += length;\n",
              "\n",
              "      const base64 = btoa(String.fromCharCode.apply(null, chunk));\n",
              "      yield {\n",
              "        response: {\n",
              "          action: 'append',\n",
              "          file: file.name,\n",
              "          data: base64,\n",
              "        },\n",
              "      };\n",
              "\n",
              "      let percentDone = fileData.byteLength === 0 ?\n",
              "          100 :\n",
              "          Math.round((position / fileData.byteLength) * 100);\n",
              "      percent.textContent = `${percentDone}% done`;\n",
              "\n",
              "    } while (position < fileData.byteLength);\n",
              "  }\n",
              "\n",
              "  // All done.\n",
              "  yield {\n",
              "    response: {\n",
              "      action: 'complete',\n",
              "    }\n",
              "  };\n",
              "}\n",
              "\n",
              "scope.google = scope.google || {};\n",
              "scope.google.colab = scope.google.colab || {};\n",
              "scope.google.colab._files = {\n",
              "  _uploadFiles,\n",
              "  _uploadFilesContinue,\n",
              "};\n",
              "})(self);\n",
              "</script> "
            ]
          },
          "metadata": {}
        },
        {
          "output_type": "stream",
          "name": "stdout",
          "text": [
            "Saving pairs.txt to pairs.txt\n",
            "User uploaded file \"pairs.txt\" with length 1747 bytes\n"
          ]
        }
      ]
    },
    {
      "cell_type": "code",
      "source": [
        "\n",
        "\n",
        "def is_prime(n):\n",
        "    \"\"\"Sprawdza, czy liczba jest liczbą pierwszą.\"\"\"\n",
        "    if n <= 1:\n",
        "        return False\n",
        "    for i in range(2, int(n**0.5) + 1):\n",
        "        if n % i == 0:\n",
        "            return False\n",
        "    return True\n",
        "\n",
        "def solve_goldbach(n):\n",
        "    \"\"\"Rozwiązuje hipotezę Goldbacha dla danej liczby parzystej.\"\"\"\n",
        "    primes = [i for i in range(2, n) if is_prime(i)]\n",
        "    max_diff = 0\n",
        "    result = None\n",
        "    for i in range(len(primes)):\n",
        "        for j in range(i, len(primes)):\n",
        "            if primes[i] + primes[j] == n:\n",
        "                diff = abs(primes[i] - primes[j])\n",
        "                if diff > max_diff:\n",
        "                    max_diff = diff\n",
        "                    result = (primes[i], primes[j])\n",
        "    if result:\n",
        "        return (n, min(result[0], result[1]), max(result[0], result[1]))\n",
        "    return None\n",
        "\n",
        "def longest_same_char_substring(s):\n",
        "    \"\"\"Znajduje najdłuższy spójny fragment słowa złożony z identycznych liter.\"\"\"\n",
        "    if not s:\n",
        "        return \"\"\n",
        "    longest_substring = s[0]\n",
        "    current_substring = s[0]\n",
        "    for i in range(1, len(s)):\n",
        "        if s[i] == s[i-1]:\n",
        "            current_substring += s[i]\n",
        "        else:\n",
        "            if len(current_substring) > len(longest_substring):\n",
        "                longest_substring = current_substring\n",
        "            current_substring = s[i]\n",
        "    if len(current_substring) > len(longest_substring):\n",
        "        longest_substring = current_substring\n",
        "    return longest_substring\n",
        "\n",
        "\n",
        "with open('pairs.txt', 'r') as f:\n",
        "    pairs = [line.strip().split() for line in f]\n",
        "\n",
        "\n",
        "print(\"Rozwiązanie hipotezy Goldbacha:\")\n",
        "for pair in pairs:\n",
        "    num = int(pair[0])\n",
        "    if num % 2 == 0 and num > 4:\n",
        "        result = solve_goldbach(num)\n",
        "        if result:\n",
        "            print(*result)\n",
        "\n",
        "print(\"\\nNajdłuższe spójne fragmenty słów:\")\n",
        "for pair in pairs:\n",
        "    word = pair[1]\n",
        "    longest_substring = longest_same_char_substring(word)\n",
        "    if longest_substring:\n",
        "        print(longest_substring, len(longest_substring))\n",
        "\n",
        "print(\"\\nNajmniejsza para (liczba, słowo), gdzie liczba = długość słowa:\")\n",
        "min_pair = None\n",
        "for pair in pairs:\n",
        "    num = int(pair[0])\n",
        "    word = pair[1]\n",
        "    if num == len(word):\n",
        "        if min_pair is None or (num < int(min_pair[0])) or (num == int(min_pair[0]) and word < min_pair[1]):\n",
        "            min_pair = (pair[0], pair[1])\n",
        "\n",
        "if min_pair:\n",
        "    print(min_pair)\n",
        "\n"
      ],
      "metadata": {
        "colab": {
          "base_uri": "https://localhost:8080/"
        },
        "id": "hpI0_m17x18Y",
        "outputId": "aa261de2-3082-42b8-c657-d44cd76bbbe3"
      },
      "id": "hpI0_m17x18Y",
      "execution_count": null,
      "outputs": [
        {
          "output_type": "stream",
          "name": "stdout",
          "text": [
            "Rozwiązanie hipotezy Goldbacha:\n",
            "68 7 61\n",
            "24 5 19\n",
            "48 5 43\n",
            "12 5 7\n",
            "42 5 37\n",
            "66 5 61\n",
            "78 5 73\n",
            "88 5 83\n",
            "76 3 73\n",
            "64 3 61\n",
            "24 5 19\n",
            "22 3 19\n",
            "64 3 61\n",
            "18 5 13\n",
            "36 5 31\n",
            "42 5 37\n",
            "56 3 53\n",
            "30 7 23\n",
            "44 3 41\n",
            "28 5 23\n",
            "94 5 89\n",
            "28 5 23\n",
            "52 5 47\n",
            "28 5 23\n",
            "36 5 31\n",
            "34 3 31\n",
            "58 5 53\n",
            "\n",
            "Najdłuższe spójne fragmenty słów:\n",
            "d 1\n",
            "tt 2\n",
            "a 1\n",
            "lllllll 7\n",
            "ooooo 5\n",
            "wwwwww 6\n",
            "aaaaaaaaaaa 11\n",
            "jj 2\n",
            "aaaaaaaaaaaa 12\n",
            "ttt 3\n",
            "qqq 3\n",
            "uu 2\n",
            "s 1\n",
            "pppp 4\n",
            "sssssssssssss 13\n",
            "ww 2\n",
            "mm 2\n",
            "ddddd 5\n",
            "ss 2\n",
            "ll 2\n",
            "xxx 3\n",
            "ttttt 5\n",
            "hhhhhhhhh 9\n",
            "ggggggg 7\n",
            "pppp 4\n",
            "w 1\n",
            "kkkkkkkkk 9\n",
            "v 1\n",
            "x 1\n",
            "z 1\n",
            "ttttttt 7\n",
            "c 1\n",
            "tttttttttttt 12\n",
            "yyyyyyyyyyyy 12\n",
            "ccc 3\n",
            "j 1\n",
            "aaaaa 5\n",
            "a 1\n",
            "r 1\n",
            "gg 2\n",
            "zzzzzzzz 8\n",
            "jj 2\n",
            "oooooooooooooooo 16\n",
            "ppppp 5\n",
            "dddddd 6\n",
            "pppp 4\n",
            "x 1\n",
            "pppp 4\n",
            "d 1\n",
            "sssss 5\n",
            "aaaaaaa 7\n",
            "pppp 4\n",
            "kkkkkkkk 8\n",
            "wwwwww 6\n",
            "xxxx 4\n",
            "s 1\n",
            "gggg 4\n",
            "bb 2\n",
            "z 1\n",
            "o 1\n",
            "mmmmm 5\n",
            "aaaaaaa 7\n",
            "l 1\n",
            "llll 4\n",
            "ggggg 5\n",
            "aaaaa 5\n",
            "jjjjjjjjjj 10\n",
            "a 1\n",
            "jj 2\n",
            "kkkkk 5\n",
            "d 1\n",
            "kkkkk 5\n",
            "eee 3\n",
            "tttttttttt 10\n",
            "bbb 3\n",
            "uuuuuuuuuu 10\n",
            "dddd 4\n",
            "ggggggggg 9\n",
            "lll 3\n",
            "ttttttttttttttttttttttttttttttttt 33\n",
            "i 1\n",
            "fffff 5\n",
            "dd 2\n",
            "bb 2\n",
            "a 1\n",
            "h 1\n",
            "hh 2\n",
            "aaaa 4\n",
            "dddddddd 8\n",
            "ee 2\n",
            "d 1\n",
            "rrrrrrrrrrrrrr 14\n",
            "jjjjjjj 7\n",
            "n 1\n",
            "aaaaaaa 7\n",
            "s 1\n",
            "a 1\n",
            "uuuu 4\n",
            "jj 2\n",
            "d 1\n",
            "\n",
            "Najmniejsza para (liczba, słowo), gdzie liczba = długość słowa:\n",
            "('3', 'asd')\n"
          ]
        }
      ]
    },
    {
      "cell_type": "markdown",
      "id": "5c7e5a24-1c5a-4e93-ae5a-5d86744f441f",
      "metadata": {
        "id": "5c7e5a24-1c5a-4e93-ae5a-5d86744f441f"
      },
      "source": [
        "**Zadanie 14**\n",
        "W pliku *words.txt* danych jest $1000$ słów (napisów) złożonych z małych liter alfabetu angielskiego. Słowa mają długość mieszczącą się w przedziale od $1$ do $200$ znaków. Napisz program(-my), dający(-e) odpowiedzi do poniższych zadań.\n",
        "1. Podaj, w ilu spośród podanych słów znajduje się trójliterowy fragment `\"k?t\"`, gdzie `?` oznacza dowolną pojedynczą literę (taki fragment występuje na przykład w słowach `\"alamakota\"`, albo `\"brokat\"`, ale nie – w słowie `\"krata\"`.)\n",
        "2. Alfabet angielski zawiera $26$ liter. Kodowanie `ROT13 `zamienia każdą literę na literę, która jest na pozycji o $13$ miejsc dalej w alfabecie (`a->n`, `b->o` itd.), przy czym po przekroczeniu `\"z\"` liczymy z powrotem od `\"a\"` (czyli `m->z`, ale `n->a`, `o->b`, i tak dalej).\n",
        "Słowo `aren` ma ciekawą własność – po zakodowaniu za pomocą `ROT13` staje się słowem `nera`, czyli tym samym słowem czytanym od tyłu. Podaj, ile w pliku *words.txt* jest słów, które mają tę własność. Wypisz ich liczbę oraz najdłuższe z nich.\n",
        "3. Znajdź i wypisz z pliku *words.txt* wszystkie takie słowa, w których ta sama litera występuje na co najmniej połowie pozycji (przykładowo: w słowie `\"owocowo\"` litera `\"o\"` ma $4$ wystąpienia na ogólną liczbę $7$ liter w słowie i spełnia podany warunek, za to w słowie `\"ambaras\"` litera `\"a\"` ma tylko $3$ wystąpienia na $7$ liter, więc nie spełnia podanego warunku)."
      ]
    },
    {
      "cell_type": "code",
      "source": [
        "from google.colab import files\n",
        "\n",
        "uploaded = files.upload()\n",
        "\n",
        "for fn in uploaded.keys():\n",
        "  print('User uploaded file \"{name}\" with length {length} bytes'.format(\n",
        "      name=fn, length=len(uploaded[fn])))"
      ],
      "metadata": {
        "colab": {
          "base_uri": "https://localhost:8080/",
          "height": 90
        },
        "id": "JGTMWc_q3GQV",
        "outputId": "8d0e8811-5822-4b99-a818-52b94790bb58"
      },
      "id": "JGTMWc_q3GQV",
      "execution_count": null,
      "outputs": [
        {
          "output_type": "display_data",
          "data": {
            "text/plain": [
              "<IPython.core.display.HTML object>"
            ],
            "text/html": [
              "\n",
              "     <input type=\"file\" id=\"files-75723c0c-28d9-406b-ad78-f9bbb7b0eefe\" name=\"files[]\" multiple disabled\n",
              "        style=\"border:none\" />\n",
              "     <output id=\"result-75723c0c-28d9-406b-ad78-f9bbb7b0eefe\">\n",
              "      Upload widget is only available when the cell has been executed in the\n",
              "      current browser session. Please rerun this cell to enable.\n",
              "      </output>\n",
              "      <script>// Copyright 2017 Google LLC\n",
              "//\n",
              "// Licensed under the Apache License, Version 2.0 (the \"License\");\n",
              "// you may not use this file except in compliance with the License.\n",
              "// You may obtain a copy of the License at\n",
              "//\n",
              "//      http://www.apache.org/licenses/LICENSE-2.0\n",
              "//\n",
              "// Unless required by applicable law or agreed to in writing, software\n",
              "// distributed under the License is distributed on an \"AS IS\" BASIS,\n",
              "// WITHOUT WARRANTIES OR CONDITIONS OF ANY KIND, either express or implied.\n",
              "// See the License for the specific language governing permissions and\n",
              "// limitations under the License.\n",
              "\n",
              "/**\n",
              " * @fileoverview Helpers for google.colab Python module.\n",
              " */\n",
              "(function(scope) {\n",
              "function span(text, styleAttributes = {}) {\n",
              "  const element = document.createElement('span');\n",
              "  element.textContent = text;\n",
              "  for (const key of Object.keys(styleAttributes)) {\n",
              "    element.style[key] = styleAttributes[key];\n",
              "  }\n",
              "  return element;\n",
              "}\n",
              "\n",
              "// Max number of bytes which will be uploaded at a time.\n",
              "const MAX_PAYLOAD_SIZE = 100 * 1024;\n",
              "\n",
              "function _uploadFiles(inputId, outputId) {\n",
              "  const steps = uploadFilesStep(inputId, outputId);\n",
              "  const outputElement = document.getElementById(outputId);\n",
              "  // Cache steps on the outputElement to make it available for the next call\n",
              "  // to uploadFilesContinue from Python.\n",
              "  outputElement.steps = steps;\n",
              "\n",
              "  return _uploadFilesContinue(outputId);\n",
              "}\n",
              "\n",
              "// This is roughly an async generator (not supported in the browser yet),\n",
              "// where there are multiple asynchronous steps and the Python side is going\n",
              "// to poll for completion of each step.\n",
              "// This uses a Promise to block the python side on completion of each step,\n",
              "// then passes the result of the previous step as the input to the next step.\n",
              "function _uploadFilesContinue(outputId) {\n",
              "  const outputElement = document.getElementById(outputId);\n",
              "  const steps = outputElement.steps;\n",
              "\n",
              "  const next = steps.next(outputElement.lastPromiseValue);\n",
              "  return Promise.resolve(next.value.promise).then((value) => {\n",
              "    // Cache the last promise value to make it available to the next\n",
              "    // step of the generator.\n",
              "    outputElement.lastPromiseValue = value;\n",
              "    return next.value.response;\n",
              "  });\n",
              "}\n",
              "\n",
              "/**\n",
              " * Generator function which is called between each async step of the upload\n",
              " * process.\n",
              " * @param {string} inputId Element ID of the input file picker element.\n",
              " * @param {string} outputId Element ID of the output display.\n",
              " * @return {!Iterable<!Object>} Iterable of next steps.\n",
              " */\n",
              "function* uploadFilesStep(inputId, outputId) {\n",
              "  const inputElement = document.getElementById(inputId);\n",
              "  inputElement.disabled = false;\n",
              "\n",
              "  const outputElement = document.getElementById(outputId);\n",
              "  outputElement.innerHTML = '';\n",
              "\n",
              "  const pickedPromise = new Promise((resolve) => {\n",
              "    inputElement.addEventListener('change', (e) => {\n",
              "      resolve(e.target.files);\n",
              "    });\n",
              "  });\n",
              "\n",
              "  const cancel = document.createElement('button');\n",
              "  inputElement.parentElement.appendChild(cancel);\n",
              "  cancel.textContent = 'Cancel upload';\n",
              "  const cancelPromise = new Promise((resolve) => {\n",
              "    cancel.onclick = () => {\n",
              "      resolve(null);\n",
              "    };\n",
              "  });\n",
              "\n",
              "  // Wait for the user to pick the files.\n",
              "  const files = yield {\n",
              "    promise: Promise.race([pickedPromise, cancelPromise]),\n",
              "    response: {\n",
              "      action: 'starting',\n",
              "    }\n",
              "  };\n",
              "\n",
              "  cancel.remove();\n",
              "\n",
              "  // Disable the input element since further picks are not allowed.\n",
              "  inputElement.disabled = true;\n",
              "\n",
              "  if (!files) {\n",
              "    return {\n",
              "      response: {\n",
              "        action: 'complete',\n",
              "      }\n",
              "    };\n",
              "  }\n",
              "\n",
              "  for (const file of files) {\n",
              "    const li = document.createElement('li');\n",
              "    li.append(span(file.name, {fontWeight: 'bold'}));\n",
              "    li.append(span(\n",
              "        `(${file.type || 'n/a'}) - ${file.size} bytes, ` +\n",
              "        `last modified: ${\n",
              "            file.lastModifiedDate ? file.lastModifiedDate.toLocaleDateString() :\n",
              "                                    'n/a'} - `));\n",
              "    const percent = span('0% done');\n",
              "    li.appendChild(percent);\n",
              "\n",
              "    outputElement.appendChild(li);\n",
              "\n",
              "    const fileDataPromise = new Promise((resolve) => {\n",
              "      const reader = new FileReader();\n",
              "      reader.onload = (e) => {\n",
              "        resolve(e.target.result);\n",
              "      };\n",
              "      reader.readAsArrayBuffer(file);\n",
              "    });\n",
              "    // Wait for the data to be ready.\n",
              "    let fileData = yield {\n",
              "      promise: fileDataPromise,\n",
              "      response: {\n",
              "        action: 'continue',\n",
              "      }\n",
              "    };\n",
              "\n",
              "    // Use a chunked sending to avoid message size limits. See b/62115660.\n",
              "    let position = 0;\n",
              "    do {\n",
              "      const length = Math.min(fileData.byteLength - position, MAX_PAYLOAD_SIZE);\n",
              "      const chunk = new Uint8Array(fileData, position, length);\n",
              "      position += length;\n",
              "\n",
              "      const base64 = btoa(String.fromCharCode.apply(null, chunk));\n",
              "      yield {\n",
              "        response: {\n",
              "          action: 'append',\n",
              "          file: file.name,\n",
              "          data: base64,\n",
              "        },\n",
              "      };\n",
              "\n",
              "      let percentDone = fileData.byteLength === 0 ?\n",
              "          100 :\n",
              "          Math.round((position / fileData.byteLength) * 100);\n",
              "      percent.textContent = `${percentDone}% done`;\n",
              "\n",
              "    } while (position < fileData.byteLength);\n",
              "  }\n",
              "\n",
              "  // All done.\n",
              "  yield {\n",
              "    response: {\n",
              "      action: 'complete',\n",
              "    }\n",
              "  };\n",
              "}\n",
              "\n",
              "scope.google = scope.google || {};\n",
              "scope.google.colab = scope.google.colab || {};\n",
              "scope.google.colab._files = {\n",
              "  _uploadFiles,\n",
              "  _uploadFilesContinue,\n",
              "};\n",
              "})(self);\n",
              "</script> "
            ]
          },
          "metadata": {}
        },
        {
          "output_type": "stream",
          "name": "stdout",
          "text": [
            "Saving words.txt to words.txt\n",
            "User uploaded file \"words.txt\" with length 20531 bytes\n"
          ]
        }
      ]
    },
    {
      "cell_type": "code",
      "source": [
        "\n",
        "# Zadanie 14\n",
        "\n",
        "def zadanie_14_1(filename):\n",
        "  \"\"\"Znajduje liczbę słów zawierających fragment 'k?t'.\"\"\"\n",
        "  count = 0\n",
        "  with open(filename, 'r') as f:\n",
        "    for line in f:\n",
        "      word = line.strip()\n",
        "      for i in range(len(word) - 2):\n",
        "        if word[i] == 'k' and word[i+2] == 't':\n",
        "          count += 1\n",
        "          break\n",
        "  return count\n",
        "\n",
        "def zadanie_14_2(filename):\n",
        "  \"\"\"Znajduje liczbę słów, które po zakodowaniu ROT13 są takie same od tyłu.\"\"\"\n",
        "  def rot13(text):\n",
        "    result = ''\n",
        "    for char in text:\n",
        "      if 'a' <= char <= 'z':\n",
        "        shifted_char = chr(((ord(char) - ord('a') + 13) % 26) + ord('a'))\n",
        "      else:\n",
        "        shifted_char = char\n",
        "      result += shifted_char\n",
        "    return result\n",
        "\n",
        "  count = 0\n",
        "  longest_word = \"\"\n",
        "  with open(filename, 'r') as f:\n",
        "    for line in f:\n",
        "      word = line.strip()\n",
        "      encoded_word = rot13(word)\n",
        "      if encoded_word == encoded_word[::-1]:\n",
        "        count += 1\n",
        "        if len(word) > len(longest_word):\n",
        "          longest_word = word\n",
        "  return count, longest_word\n",
        "\n",
        "def zadanie_14_3(filename):\n",
        "  \"\"\"Znajduje słowa, w których ta sama litera występuje na co najmniej połowie pozycji.\"\"\"\n",
        "  result = []\n",
        "  with open(filename, 'r') as f:\n",
        "    for line in f:\n",
        "      word = line.strip()\n",
        "      for char in set(word):\n",
        "        if word.count(char) >= len(word) / 2:\n",
        "          result.append(word)\n",
        "          break\n",
        "  return result\n",
        "\n",
        "\n",
        "filename = 'words.txt'\n",
        "print(\"Zadanie 14.1:\", zadanie_14_1(filename))\n",
        "count, longest_word = zadanie_14_2(filename)\n",
        "print(\"Zadanie 14.2:\", count, longest_word)\n",
        "print(\"Zadanie 14.3:\", zadanie_14_3(filename))\n"
      ],
      "metadata": {
        "colab": {
          "base_uri": "https://localhost:8080/"
        },
        "id": "SgCYfRhkyPer",
        "outputId": "289dc69b-718a-4db1-ea7f-ed070923b2bb"
      },
      "id": "SgCYfRhkyPer",
      "execution_count": null,
      "outputs": [
        {
          "output_type": "stream",
          "name": "stdout",
          "text": [
            "Zadanie 14.1: 26\n",
            "Zadanie 14.2: 0 \n",
            "Zadanie 14.3: ['vzwzwgszezvzzlzzzzzzouz', 'azaaasfakaaaxbaaaaau', 'ppppppnoppnoclpop', 'zggggggpegpnovzgg', 'nyrpvqycpaylffffffffffffff', 'kkkkkkkkkkwpijccdbl', 'tstevttebttktnetitbttti', 'gvsvjvvvvvqppvuvcvvvi']\n"
          ]
        }
      ]
    },
    {
      "cell_type": "markdown",
      "id": "92b02f61-95f8-4af3-a7c9-1f0fe15efdc2",
      "metadata": {
        "id": "92b02f61-95f8-4af3-a7c9-1f0fe15efdc2"
      },
      "source": [
        "**Zadanie 15**\n",
        "W pewnej sieci jest $n > 1$ komputerów. Komputery przesyłają między sobą pakiety informacji.Rozsyłanie odbywa się w rundach. W rundzie zerowej każdy komputer ma swój jeden pakiet oznaczony numerem tego komputera. Każdy komputer ma z góry zadany numer odbiorcy, czyli komputera, do którego w kolejnych rundach wysyła pakiety. Na początku każdej rundy każdy komputer wysyła wszystkie pakiety, które miał w rundzie poprzedniej. Pakiety przychodzące do komputera w trakcie rundy są przechowywane w tym komputerze do początku następnej rundy.\n",
        "\n",
        "<u>Przykład:</u>\n",
        "Poniżej zapisano numery odbiorców dla $n = 6$ komputerów o numerach odpowiadających numerom wierszy (od $1$ do $6$):\n",
        "```\n",
        "4\n",
        "3\n",
        "5\n",
        "3\n",
        "1\n",
        "2\n",
        "```\n",
        "Odbiorcą dla komputera pierwszego jest komputer $4$, odbiorcą dla komputera drugiego jest komputer $3$ itd.\n",
        "Zatem w pierwszej rundzie:\n",
        "* komputer pierwszy przesyła swój pakiet (nr $1$) do komputera czwartego (pakiet nr $1$ po pierwszej rundzie znajdzie się w komputerze czwartym);\n",
        "* komputer drugi wysyła swój pakiet (nr $2$) do komputera trzeciego (pakiet nr $2$ po pierwszej rundzie znajdzie w komputerze trzecim) itd.\n",
        "\n",
        "W drugiej rundzie pakiet numer $1$, który był w komputerze nr $4$, zostanie przez niego wysłany do komputera nr $3$ (który jest odbiorcą dla komputera nr $4$) itd.\n",
        "\n",
        "W poniższej tabeli dla każdego numeru pakietu przedstawiono miejsce, w którym ten pakiet znajdzie się na koniec kolejnych rund (do rundy $6$) dla danych z przykładu $1$.\n",
        "\n",
        "| nr rundy\\nr pakietu   | 1 | 2 | 3 | 4 | 5 | 6 |\n",
        "|-----------------------|---|---|---|---|---|---|\n",
        "|1. runda               | 4 | 3 | 5 | 3 | 1 | 2 |\n",
        "|2. runda               | 3 | 5 | 1 | 5 | 4 | 3 |\n",
        "|3. runda               | 5 | 1 | 4 | 1 | 3 | 5 |\n",
        "|4. runda               | 1 | 4 | 3 | 4 | 5 | 1 |\n",
        "|5. runda               | 4 | 3 | 5 | 3 | 1 | 4 |\n",
        "|6. runda               | 3 | 5 | 1 | 5 | 4 | 3 |\n",
        "\n",
        "W kolejnych wierszach pliku  `receivers.txt` zapisano numery odbiorców dla $n = 1024$ komputerów. W wierszu pierwszym pliku zapisano numer odbiorcy pakietów od komputera pierwszego, w wierszu drugim – numer odbiorcy pakietów od komputera drugiego itd. Napisz program(-my), dający(-e) odpowiedzi do poniższych zadań.\n",
        "\n",
        "1. Dla danych zapisanych w pliku odbiorcy.txt podaj liczbę komputerów, które nie są odbiorcami żadnych pakietów. W rozważnym przykładzie jest jeden taki komputer – komputer $6$ nie jest odbiorcą żadnego pakietu.\n",
        "2. W kolejnych rundach może się zdarzyć, że pakiet wróci do komputera, z którego został początkowo wysłany (komputera o numerze takim, jaki ma ten pakiet).\n",
        "  \n",
        "   W rozważanym przykładzie w rundzie czwartej pakiety o numerach $1$, $3$, $4$ i $5$ wrócą do komputerów, w których znajdowały się przed rozpoczęciem rozsyłania.\n",
        "\n",
        "    Wyznacz najmniejszy numer rundy, w której którykolwiek pakiet powróci do komputera, z którego startował (o tym samym numerze co numer tego pakietu). Podaj najmniejszy numer takiego pakietu dla wyznaczonego numeru rundy. Dla rozwżanego przykładu odpowiedzią jest: `4 1` (runda $4$, numer pakietu $1$).\n",
        "3. Podaj największe liczby pakietów, które trafiają do jednego komputera – odpowiednio – po\n",
        "każdej z rund: $1$, $2$, $4$ i $8$. Jako odpowiedź podaj liczby tych pakietów zapisane w jednym wierszu, rozdzielone znakiem odstępu.\n"
      ]
    },
    {
      "cell_type": "code",
      "source": [
        "from google.colab import files\n",
        "\n",
        "uploaded = files.upload()\n",
        "\n",
        "for fn in uploaded.keys():\n",
        "  print('User uploaded file \"{name}\" with length {length} bytes'.format(\n",
        "      name=fn, length=len(uploaded[fn])))"
      ],
      "metadata": {
        "id": "d8hgnMJT3K51",
        "outputId": "825a21b4-35db-43e0-89ba-412ce945ffee",
        "colab": {
          "base_uri": "https://localhost:8080/",
          "height": 90
        }
      },
      "id": "d8hgnMJT3K51",
      "execution_count": null,
      "outputs": [
        {
          "output_type": "display_data",
          "data": {
            "text/plain": [
              "<IPython.core.display.HTML object>"
            ],
            "text/html": [
              "\n",
              "     <input type=\"file\" id=\"files-a510f30b-c779-4d8e-8bd3-7c7d3f88076c\" name=\"files[]\" multiple disabled\n",
              "        style=\"border:none\" />\n",
              "     <output id=\"result-a510f30b-c779-4d8e-8bd3-7c7d3f88076c\">\n",
              "      Upload widget is only available when the cell has been executed in the\n",
              "      current browser session. Please rerun this cell to enable.\n",
              "      </output>\n",
              "      <script>// Copyright 2017 Google LLC\n",
              "//\n",
              "// Licensed under the Apache License, Version 2.0 (the \"License\");\n",
              "// you may not use this file except in compliance with the License.\n",
              "// You may obtain a copy of the License at\n",
              "//\n",
              "//      http://www.apache.org/licenses/LICENSE-2.0\n",
              "//\n",
              "// Unless required by applicable law or agreed to in writing, software\n",
              "// distributed under the License is distributed on an \"AS IS\" BASIS,\n",
              "// WITHOUT WARRANTIES OR CONDITIONS OF ANY KIND, either express or implied.\n",
              "// See the License for the specific language governing permissions and\n",
              "// limitations under the License.\n",
              "\n",
              "/**\n",
              " * @fileoverview Helpers for google.colab Python module.\n",
              " */\n",
              "(function(scope) {\n",
              "function span(text, styleAttributes = {}) {\n",
              "  const element = document.createElement('span');\n",
              "  element.textContent = text;\n",
              "  for (const key of Object.keys(styleAttributes)) {\n",
              "    element.style[key] = styleAttributes[key];\n",
              "  }\n",
              "  return element;\n",
              "}\n",
              "\n",
              "// Max number of bytes which will be uploaded at a time.\n",
              "const MAX_PAYLOAD_SIZE = 100 * 1024;\n",
              "\n",
              "function _uploadFiles(inputId, outputId) {\n",
              "  const steps = uploadFilesStep(inputId, outputId);\n",
              "  const outputElement = document.getElementById(outputId);\n",
              "  // Cache steps on the outputElement to make it available for the next call\n",
              "  // to uploadFilesContinue from Python.\n",
              "  outputElement.steps = steps;\n",
              "\n",
              "  return _uploadFilesContinue(outputId);\n",
              "}\n",
              "\n",
              "// This is roughly an async generator (not supported in the browser yet),\n",
              "// where there are multiple asynchronous steps and the Python side is going\n",
              "// to poll for completion of each step.\n",
              "// This uses a Promise to block the python side on completion of each step,\n",
              "// then passes the result of the previous step as the input to the next step.\n",
              "function _uploadFilesContinue(outputId) {\n",
              "  const outputElement = document.getElementById(outputId);\n",
              "  const steps = outputElement.steps;\n",
              "\n",
              "  const next = steps.next(outputElement.lastPromiseValue);\n",
              "  return Promise.resolve(next.value.promise).then((value) => {\n",
              "    // Cache the last promise value to make it available to the next\n",
              "    // step of the generator.\n",
              "    outputElement.lastPromiseValue = value;\n",
              "    return next.value.response;\n",
              "  });\n",
              "}\n",
              "\n",
              "/**\n",
              " * Generator function which is called between each async step of the upload\n",
              " * process.\n",
              " * @param {string} inputId Element ID of the input file picker element.\n",
              " * @param {string} outputId Element ID of the output display.\n",
              " * @return {!Iterable<!Object>} Iterable of next steps.\n",
              " */\n",
              "function* uploadFilesStep(inputId, outputId) {\n",
              "  const inputElement = document.getElementById(inputId);\n",
              "  inputElement.disabled = false;\n",
              "\n",
              "  const outputElement = document.getElementById(outputId);\n",
              "  outputElement.innerHTML = '';\n",
              "\n",
              "  const pickedPromise = new Promise((resolve) => {\n",
              "    inputElement.addEventListener('change', (e) => {\n",
              "      resolve(e.target.files);\n",
              "    });\n",
              "  });\n",
              "\n",
              "  const cancel = document.createElement('button');\n",
              "  inputElement.parentElement.appendChild(cancel);\n",
              "  cancel.textContent = 'Cancel upload';\n",
              "  const cancelPromise = new Promise((resolve) => {\n",
              "    cancel.onclick = () => {\n",
              "      resolve(null);\n",
              "    };\n",
              "  });\n",
              "\n",
              "  // Wait for the user to pick the files.\n",
              "  const files = yield {\n",
              "    promise: Promise.race([pickedPromise, cancelPromise]),\n",
              "    response: {\n",
              "      action: 'starting',\n",
              "    }\n",
              "  };\n",
              "\n",
              "  cancel.remove();\n",
              "\n",
              "  // Disable the input element since further picks are not allowed.\n",
              "  inputElement.disabled = true;\n",
              "\n",
              "  if (!files) {\n",
              "    return {\n",
              "      response: {\n",
              "        action: 'complete',\n",
              "      }\n",
              "    };\n",
              "  }\n",
              "\n",
              "  for (const file of files) {\n",
              "    const li = document.createElement('li');\n",
              "    li.append(span(file.name, {fontWeight: 'bold'}));\n",
              "    li.append(span(\n",
              "        `(${file.type || 'n/a'}) - ${file.size} bytes, ` +\n",
              "        `last modified: ${\n",
              "            file.lastModifiedDate ? file.lastModifiedDate.toLocaleDateString() :\n",
              "                                    'n/a'} - `));\n",
              "    const percent = span('0% done');\n",
              "    li.appendChild(percent);\n",
              "\n",
              "    outputElement.appendChild(li);\n",
              "\n",
              "    const fileDataPromise = new Promise((resolve) => {\n",
              "      const reader = new FileReader();\n",
              "      reader.onload = (e) => {\n",
              "        resolve(e.target.result);\n",
              "      };\n",
              "      reader.readAsArrayBuffer(file);\n",
              "    });\n",
              "    // Wait for the data to be ready.\n",
              "    let fileData = yield {\n",
              "      promise: fileDataPromise,\n",
              "      response: {\n",
              "        action: 'continue',\n",
              "      }\n",
              "    };\n",
              "\n",
              "    // Use a chunked sending to avoid message size limits. See b/62115660.\n",
              "    let position = 0;\n",
              "    do {\n",
              "      const length = Math.min(fileData.byteLength - position, MAX_PAYLOAD_SIZE);\n",
              "      const chunk = new Uint8Array(fileData, position, length);\n",
              "      position += length;\n",
              "\n",
              "      const base64 = btoa(String.fromCharCode.apply(null, chunk));\n",
              "      yield {\n",
              "        response: {\n",
              "          action: 'append',\n",
              "          file: file.name,\n",
              "          data: base64,\n",
              "        },\n",
              "      };\n",
              "\n",
              "      let percentDone = fileData.byteLength === 0 ?\n",
              "          100 :\n",
              "          Math.round((position / fileData.byteLength) * 100);\n",
              "      percent.textContent = `${percentDone}% done`;\n",
              "\n",
              "    } while (position < fileData.byteLength);\n",
              "  }\n",
              "\n",
              "  // All done.\n",
              "  yield {\n",
              "    response: {\n",
              "      action: 'complete',\n",
              "    }\n",
              "  };\n",
              "}\n",
              "\n",
              "scope.google = scope.google || {};\n",
              "scope.google.colab = scope.google.colab || {};\n",
              "scope.google.colab._files = {\n",
              "  _uploadFiles,\n",
              "  _uploadFilesContinue,\n",
              "};\n",
              "})(self);\n",
              "</script> "
            ]
          },
          "metadata": {}
        },
        {
          "output_type": "stream",
          "name": "stdout",
          "text": [
            "Saving receivers.txt to receivers.txt\n",
            "User uploaded file \"receivers.txt\" with length 5029 bytes\n"
          ]
        }
      ]
    },
    {
      "cell_type": "code",
      "source": [
        "\n",
        "def zadanie_15_1(filename):\n",
        "    \"\"\"Znajduje liczbę komputerów, które nie są odbiorcami żadnych pakietów.\"\"\"\n",
        "    with open(filename, 'r') as f:\n",
        "        receivers = [int(line.strip()) for line in f]\n",
        "    n = len(receivers)\n",
        "    recipients = set()\n",
        "    for receiver in receivers:\n",
        "        recipients.add(receiver)\n",
        "    not_recipients_count = n - len(recipients)\n",
        "    return not_recipients_count\n",
        "\n",
        "def zadanie_15_2(filename):\n",
        "    \"\"\"Znajduje najmniejszy numer rundy, w której pakiet wraca do swojego komputera.\"\"\"\n",
        "    with open(filename, 'r') as f:\n",
        "        receivers = [int(line.strip()) for line in f]\n",
        "\n",
        "    n = len(receivers)\n",
        "    packet_locations = list(range(1, n + 1))\n",
        "    for round_num in range(1, 100):\n",
        "        new_packet_locations = []\n",
        "        for i in range(n):\n",
        "            new_packet_locations.append(receivers[packet_locations[i] - 1])\n",
        "        packet_locations = new_packet_locations\n",
        "\n",
        "        for i in range(n):\n",
        "            if packet_locations[i] == i + 1:\n",
        "                return round_num, i + 1\n",
        "    return None, None\n",
        "\n",
        "def zadanie_15_3(filename):\n",
        "    \"\"\"Znajduje największe liczby pakietów trafiających do jednego komputera po rundach 1, 2, 4, 8.\"\"\"\n",
        "    with open(filename, 'r') as f:\n",
        "        receivers = [int(line.strip()) for line in f]\n",
        "\n",
        "    n = len(receivers)\n",
        "    max_packets_per_round = []\n",
        "\n",
        "    for round_num in [1, 2, 4, 8]:\n",
        "        packet_locations = list(range(1, n + 1))\n",
        "        for _ in range(round_num):\n",
        "            new_packet_locations = []\n",
        "            for i in range(n):\n",
        "                new_packet_locations.append(receivers[packet_locations[i] - 1])\n",
        "            packet_locations = new_packet_locations\n",
        "\n",
        "        computer_counts = [0] * (n + 1)\n",
        "        for location in packet_locations:\n",
        "            computer_counts[location] += 1\n",
        "        max_packets_per_round.append(max(computer_counts))\n",
        "\n",
        "    return max_packets_per_round\n",
        "\n",
        "\n",
        "\n",
        "filename = 'receivers.txt'\n",
        "print(\"Zadanie 15.1:\", zadanie_15_1(filename))\n",
        "round_num, packet_num = zadanie_15_2(filename)\n",
        "if round_num:\n",
        "    print(\"Zadanie 15.2:\", round_num, packet_num)\n",
        "else:\n",
        "    print(\"Zadanie 15.2: Żaden pakiet nie wrócił do swojego komputera.\")\n",
        "result_15_3 = zadanie_15_3(filename)\n",
        "print(\"Zadanie 15.3:\", *result_15_3)\n"
      ],
      "metadata": {
        "colab": {
          "base_uri": "https://localhost:8080/"
        },
        "id": "SlEuy92XykG0",
        "outputId": "0da00c9a-9783-47e1-a416-7d634fc03656"
      },
      "id": "SlEuy92XykG0",
      "execution_count": null,
      "outputs": [
        {
          "output_type": "stream",
          "name": "stdout",
          "text": [
            "Zadanie 15.1: 395\n",
            "Zadanie 15.2: 3 436\n",
            "Zadanie 15.3: 6 8 15 20\n"
          ]
        }
      ]
    }
  ],
  "metadata": {
    "kernelspec": {
      "display_name": "Python 3 (ipykernel)",
      "language": "python",
      "name": "python3"
    },
    "language_info": {
      "codemirror_mode": {
        "name": "ipython",
        "version": 3
      },
      "file_extension": ".py",
      "mimetype": "text/x-python",
      "name": "python",
      "nbconvert_exporter": "python",
      "pygments_lexer": "ipython3",
      "version": "3.12.4"
    },
    "colab": {
      "provenance": []
    }
  },
  "nbformat": 4,
  "nbformat_minor": 5
}